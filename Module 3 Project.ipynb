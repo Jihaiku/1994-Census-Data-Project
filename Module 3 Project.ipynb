{
 "cells": [
  {
   "cell_type": "markdown",
   "metadata": {},
   "source": [
    "<div style=\"text-align: right\"> Christopher Hyek <br> 7/21/2019 </div>\n",
    "\n",
    "# <center> Module 3 Project </center>\n",
    "## <center> 1994 Census Data </center>"
   ]
  },
  {
   "cell_type": "markdown",
   "metadata": {},
   "source": [
    "# Index\n",
    "\n",
    "[**Introduction**](#Introduction)\n",
    "* Directory\n",
    "* Imports\n",
    "\n",
    "[**Methodology**](#Methodology)\n",
    "* Explanation\n",
    "* Goal\n",
    "\n",
    "[**EDA**](#EDA)\n",
    "* Process\n",
    "* Clean\n",
    "* Visualize\n",
    "* Form Questions\n",
    "* Test Models\n",
    "\n",
    "[**Question**](#Question)\n",
    "* Why was it chosen\n",
    "* Goals\n",
    "* Process\n",
    "* Results\n",
    "\n",
    "[**Conlusion**](#Conclusion)\n",
    "* Next Steps\n",
    "* Recommendations"
   ]
  },
  {
   "cell_type": "markdown",
   "metadata": {},
   "source": [
    "# Introduction\n",
    "\n",
    "Today we're going to be looking over a dataset created by Barry Becker pertaining to the 1994 Census for the United States. \n",
    "\n",
    "### Purpose\n",
    "What we're going to be figuring out with it initially is whether or not that people make over $50,000 or under that per year with the information that we obtain with the initial data. This will help us provide answers to our hypothetical employee-the government-to better tax the people by predicting their tax brackets based on their information. Which in turn may help them through more knowledgable tax policies.\n",
    "\n",
    "Then we're going to come up with an additional question and apply it to the same data and see where that takes us."
   ]
  },
  {
   "cell_type": "markdown",
   "metadata": {},
   "source": [
    "#### Directory and Imports\n",
    "\n",
    "Below this you'll find me checking/resetting the directory and then making sure we are in the correct area where I stored the CSV files. Following this is the imports that were used for this project."
   ]
  },
  {
   "cell_type": "code",
   "execution_count": 1,
   "metadata": {
    "scrolled": true
   },
   "outputs": [
    {
     "name": "stdout",
     "output_type": "stream",
     "text": [
      "C:\\Users\\Atlas\n"
     ]
    }
   ],
   "source": [
    "cd"
   ]
  },
  {
   "cell_type": "code",
   "execution_count": 2,
   "metadata": {},
   "outputs": [
    {
     "name": "stdout",
     "output_type": "stream",
     "text": [
      "C:\\Users\\Atlas\\Module 3\n"
     ]
    }
   ],
   "source": [
    "cd Module 3"
   ]
  },
  {
   "cell_type": "code",
   "execution_count": 3,
   "metadata": {},
   "outputs": [],
   "source": [
    "import numpy as np\n",
    "import pandas as pd\n",
    "import xgboost as xgb\n",
    "import seaborn as sns\n",
    "import matplotlib.pyplot as plt\n",
    "from collections import Counter\n",
    "%matplotlib inline\n",
    "\n",
    "from itertools import combinations\n",
    "from sklearn.ensemble import RandomForestClassifier, AdaBoostClassifier\n",
    "from sklearn.linear_model import LogisticRegression\n",
    "from sklearn.metrics import confusion_matrix, accuracy_score\n",
    "from sklearn.model_selection import train_test_split, GridSearchCV, cross_val_score\n",
    "from sklearn.preprocessing import StandardScaler\n",
    "from sklearn.tree import DecisionTreeClassifier"
   ]
  },
  {
   "cell_type": "markdown",
   "metadata": {},
   "source": [
    "# Methodology\n",
    "\n",
    "Below is the order in which we'll be covering our datasets so that we can find trends or spot issues before asking deeper questions.\n",
    "\n",
    "    1. Run CSV files and check for issues\n",
    "    2. Clean each CSV of null values\n",
    "    3. Remove any redundant/low value columns \n",
    "    4. Begin to formulate questions through visualization\n",
    "    5. Determine several questions that can utilize classification algorithms\n",
    "    6. Perform cursory tests pertaining to the questions\n",
    "    7. Reduce list as needed until few questions remain"
   ]
  },
  {
   "cell_type": "markdown",
   "metadata": {},
   "source": [
    "### Dataframe creation and column naming\n",
    "\n",
    "After collecting both the test and training data I had to run them to check for any immediate issues before we continued."
   ]
  },
  {
   "cell_type": "code",
   "execution_count": 4,
   "metadata": {},
   "outputs": [],
   "source": [
    "df0 = pd.read_csv('adult.csv')\n",
    "df1 = pd.read_csv('adult_test.csv')"
   ]
  },
  {
   "cell_type": "code",
   "execution_count": 5,
   "metadata": {
    "scrolled": false
   },
   "outputs": [
    {
     "data": {
      "text/html": [
       "<div>\n",
       "<style scoped>\n",
       "    .dataframe tbody tr th:only-of-type {\n",
       "        vertical-align: middle;\n",
       "    }\n",
       "\n",
       "    .dataframe tbody tr th {\n",
       "        vertical-align: top;\n",
       "    }\n",
       "\n",
       "    .dataframe thead th {\n",
       "        text-align: right;\n",
       "    }\n",
       "</style>\n",
       "<table border=\"1\" class=\"dataframe\">\n",
       "  <thead>\n",
       "    <tr style=\"text-align: right;\">\n",
       "      <th></th>\n",
       "      <th>39</th>\n",
       "      <th>State-gov</th>\n",
       "      <th>77516</th>\n",
       "      <th>Bachelors</th>\n",
       "      <th>13</th>\n",
       "      <th>Never-married</th>\n",
       "      <th>Adm-clerical</th>\n",
       "      <th>Not-in-family</th>\n",
       "      <th>White</th>\n",
       "      <th>Male</th>\n",
       "      <th>2174</th>\n",
       "      <th>0</th>\n",
       "      <th>40</th>\n",
       "      <th>United-States</th>\n",
       "      <th>&lt;=50K</th>\n",
       "    </tr>\n",
       "  </thead>\n",
       "  <tbody>\n",
       "    <tr>\n",
       "      <th>0</th>\n",
       "      <td>50</td>\n",
       "      <td>Self-emp-not-inc</td>\n",
       "      <td>83311</td>\n",
       "      <td>Bachelors</td>\n",
       "      <td>13</td>\n",
       "      <td>Married-civ-spouse</td>\n",
       "      <td>Exec-managerial</td>\n",
       "      <td>Husband</td>\n",
       "      <td>White</td>\n",
       "      <td>Male</td>\n",
       "      <td>0</td>\n",
       "      <td>0</td>\n",
       "      <td>13</td>\n",
       "      <td>United-States</td>\n",
       "      <td>&lt;=50K</td>\n",
       "    </tr>\n",
       "    <tr>\n",
       "      <th>1</th>\n",
       "      <td>38</td>\n",
       "      <td>Private</td>\n",
       "      <td>215646</td>\n",
       "      <td>HS-grad</td>\n",
       "      <td>9</td>\n",
       "      <td>Divorced</td>\n",
       "      <td>Handlers-cleaners</td>\n",
       "      <td>Not-in-family</td>\n",
       "      <td>White</td>\n",
       "      <td>Male</td>\n",
       "      <td>0</td>\n",
       "      <td>0</td>\n",
       "      <td>40</td>\n",
       "      <td>United-States</td>\n",
       "      <td>&lt;=50K</td>\n",
       "    </tr>\n",
       "    <tr>\n",
       "      <th>2</th>\n",
       "      <td>53</td>\n",
       "      <td>Private</td>\n",
       "      <td>234721</td>\n",
       "      <td>11th</td>\n",
       "      <td>7</td>\n",
       "      <td>Married-civ-spouse</td>\n",
       "      <td>Handlers-cleaners</td>\n",
       "      <td>Husband</td>\n",
       "      <td>Black</td>\n",
       "      <td>Male</td>\n",
       "      <td>0</td>\n",
       "      <td>0</td>\n",
       "      <td>40</td>\n",
       "      <td>United-States</td>\n",
       "      <td>&lt;=50K</td>\n",
       "    </tr>\n",
       "    <tr>\n",
       "      <th>3</th>\n",
       "      <td>28</td>\n",
       "      <td>Private</td>\n",
       "      <td>338409</td>\n",
       "      <td>Bachelors</td>\n",
       "      <td>13</td>\n",
       "      <td>Married-civ-spouse</td>\n",
       "      <td>Prof-specialty</td>\n",
       "      <td>Wife</td>\n",
       "      <td>Black</td>\n",
       "      <td>Female</td>\n",
       "      <td>0</td>\n",
       "      <td>0</td>\n",
       "      <td>40</td>\n",
       "      <td>Cuba</td>\n",
       "      <td>&lt;=50K</td>\n",
       "    </tr>\n",
       "    <tr>\n",
       "      <th>4</th>\n",
       "      <td>37</td>\n",
       "      <td>Private</td>\n",
       "      <td>284582</td>\n",
       "      <td>Masters</td>\n",
       "      <td>14</td>\n",
       "      <td>Married-civ-spouse</td>\n",
       "      <td>Exec-managerial</td>\n",
       "      <td>Wife</td>\n",
       "      <td>White</td>\n",
       "      <td>Female</td>\n",
       "      <td>0</td>\n",
       "      <td>0</td>\n",
       "      <td>40</td>\n",
       "      <td>United-States</td>\n",
       "      <td>&lt;=50K</td>\n",
       "    </tr>\n",
       "  </tbody>\n",
       "</table>\n",
       "</div>"
      ],
      "text/plain": [
       "   39          State-gov   77516   Bachelors   13        Never-married  \\\n",
       "0  50   Self-emp-not-inc   83311   Bachelors   13   Married-civ-spouse   \n",
       "1  38            Private  215646     HS-grad    9             Divorced   \n",
       "2  53            Private  234721        11th    7   Married-civ-spouse   \n",
       "3  28            Private  338409   Bachelors   13   Married-civ-spouse   \n",
       "4  37            Private  284582     Masters   14   Married-civ-spouse   \n",
       "\n",
       "         Adm-clerical   Not-in-family   White     Male   2174   0   40  \\\n",
       "0     Exec-managerial         Husband   White     Male      0   0   13   \n",
       "1   Handlers-cleaners   Not-in-family   White     Male      0   0   40   \n",
       "2   Handlers-cleaners         Husband   Black     Male      0   0   40   \n",
       "3      Prof-specialty            Wife   Black   Female      0   0   40   \n",
       "4     Exec-managerial            Wife   White   Female      0   0   40   \n",
       "\n",
       "    United-States   <=50K  \n",
       "0   United-States   <=50K  \n",
       "1   United-States   <=50K  \n",
       "2   United-States   <=50K  \n",
       "3            Cuba   <=50K  \n",
       "4   United-States   <=50K  "
      ]
     },
     "execution_count": 5,
     "metadata": {},
     "output_type": "execute_result"
    }
   ],
   "source": [
    "df0.head()"
   ]
  },
  {
   "cell_type": "code",
   "execution_count": 6,
   "metadata": {
    "scrolled": false
   },
   "outputs": [
    {
     "data": {
      "text/html": [
       "<div>\n",
       "<style scoped>\n",
       "    .dataframe tbody tr th:only-of-type {\n",
       "        vertical-align: middle;\n",
       "    }\n",
       "\n",
       "    .dataframe tbody tr th {\n",
       "        vertical-align: top;\n",
       "    }\n",
       "\n",
       "    .dataframe thead th {\n",
       "        text-align: right;\n",
       "    }\n",
       "</style>\n",
       "<table border=\"1\" class=\"dataframe\">\n",
       "  <thead>\n",
       "    <tr style=\"text-align: right;\">\n",
       "      <th></th>\n",
       "      <th>25</th>\n",
       "      <th>Private</th>\n",
       "      <th>226802</th>\n",
       "      <th>11th</th>\n",
       "      <th>7</th>\n",
       "      <th>Never-married</th>\n",
       "      <th>Machine-op-inspct</th>\n",
       "      <th>Own-child</th>\n",
       "      <th>Black</th>\n",
       "      <th>Male</th>\n",
       "      <th>0</th>\n",
       "      <th>0.1</th>\n",
       "      <th>40</th>\n",
       "      <th>United-States</th>\n",
       "      <th>&lt;=50K.</th>\n",
       "    </tr>\n",
       "  </thead>\n",
       "  <tbody>\n",
       "    <tr>\n",
       "      <th>0</th>\n",
       "      <td>38</td>\n",
       "      <td>Private</td>\n",
       "      <td>89814</td>\n",
       "      <td>HS-grad</td>\n",
       "      <td>9</td>\n",
       "      <td>Married-civ-spouse</td>\n",
       "      <td>Farming-fishing</td>\n",
       "      <td>Husband</td>\n",
       "      <td>White</td>\n",
       "      <td>Male</td>\n",
       "      <td>0</td>\n",
       "      <td>0</td>\n",
       "      <td>50</td>\n",
       "      <td>United-States</td>\n",
       "      <td>&lt;=50K.</td>\n",
       "    </tr>\n",
       "    <tr>\n",
       "      <th>1</th>\n",
       "      <td>28</td>\n",
       "      <td>Local-gov</td>\n",
       "      <td>336951</td>\n",
       "      <td>Assoc-acdm</td>\n",
       "      <td>12</td>\n",
       "      <td>Married-civ-spouse</td>\n",
       "      <td>Protective-serv</td>\n",
       "      <td>Husband</td>\n",
       "      <td>White</td>\n",
       "      <td>Male</td>\n",
       "      <td>0</td>\n",
       "      <td>0</td>\n",
       "      <td>40</td>\n",
       "      <td>United-States</td>\n",
       "      <td>&gt;50K.</td>\n",
       "    </tr>\n",
       "    <tr>\n",
       "      <th>2</th>\n",
       "      <td>44</td>\n",
       "      <td>Private</td>\n",
       "      <td>160323</td>\n",
       "      <td>Some-college</td>\n",
       "      <td>10</td>\n",
       "      <td>Married-civ-spouse</td>\n",
       "      <td>Machine-op-inspct</td>\n",
       "      <td>Husband</td>\n",
       "      <td>Black</td>\n",
       "      <td>Male</td>\n",
       "      <td>7688</td>\n",
       "      <td>0</td>\n",
       "      <td>40</td>\n",
       "      <td>United-States</td>\n",
       "      <td>&gt;50K.</td>\n",
       "    </tr>\n",
       "    <tr>\n",
       "      <th>3</th>\n",
       "      <td>18</td>\n",
       "      <td>?</td>\n",
       "      <td>103497</td>\n",
       "      <td>Some-college</td>\n",
       "      <td>10</td>\n",
       "      <td>Never-married</td>\n",
       "      <td>?</td>\n",
       "      <td>Own-child</td>\n",
       "      <td>White</td>\n",
       "      <td>Female</td>\n",
       "      <td>0</td>\n",
       "      <td>0</td>\n",
       "      <td>30</td>\n",
       "      <td>United-States</td>\n",
       "      <td>&lt;=50K.</td>\n",
       "    </tr>\n",
       "    <tr>\n",
       "      <th>4</th>\n",
       "      <td>34</td>\n",
       "      <td>Private</td>\n",
       "      <td>198693</td>\n",
       "      <td>10th</td>\n",
       "      <td>6</td>\n",
       "      <td>Never-married</td>\n",
       "      <td>Other-service</td>\n",
       "      <td>Not-in-family</td>\n",
       "      <td>White</td>\n",
       "      <td>Male</td>\n",
       "      <td>0</td>\n",
       "      <td>0</td>\n",
       "      <td>30</td>\n",
       "      <td>United-States</td>\n",
       "      <td>&lt;=50K.</td>\n",
       "    </tr>\n",
       "  </tbody>\n",
       "</table>\n",
       "</div>"
      ],
      "text/plain": [
       "   25     Private  226802           11th   7        Never-married  \\\n",
       "0  38     Private   89814        HS-grad   9   Married-civ-spouse   \n",
       "1  28   Local-gov  336951     Assoc-acdm  12   Married-civ-spouse   \n",
       "2  44     Private  160323   Some-college  10   Married-civ-spouse   \n",
       "3  18           ?  103497   Some-college  10        Never-married   \n",
       "4  34     Private  198693           10th   6        Never-married   \n",
       "\n",
       "    Machine-op-inspct       Own-child   Black     Male     0  0.1  40  \\\n",
       "0     Farming-fishing         Husband   White     Male     0    0  50   \n",
       "1     Protective-serv         Husband   White     Male     0    0  40   \n",
       "2   Machine-op-inspct         Husband   Black     Male  7688    0  40   \n",
       "3                   ?       Own-child   White   Female     0    0  30   \n",
       "4       Other-service   Not-in-family   White     Male     0    0  30   \n",
       "\n",
       "    United-States   <=50K.  \n",
       "0   United-States   <=50K.  \n",
       "1   United-States    >50K.  \n",
       "2   United-States    >50K.  \n",
       "3   United-States   <=50K.  \n",
       "4   United-States   <=50K.  "
      ]
     },
     "execution_count": 6,
     "metadata": {},
     "output_type": "execute_result"
    }
   ],
   "source": [
    "df1.head()"
   ]
  },
  {
   "cell_type": "markdown",
   "metadata": {},
   "source": [
    "First issue I spot with both of these dataframes are that their column names are wrong and they both have their unique ID columns showing. While I think I'll keep the unique ID showing because it can be helpful at times I will be fixing the column names and then recreating the dataframes.\n",
    "\n",
    "I went back to the dataset download location and pullled the attribute names that the creator had originally provided and put them into a list then re-ran the first dataframe to have no header so that the row used in the beginning would return as a row of data."
   ]
  },
  {
   "cell_type": "code",
   "execution_count": 7,
   "metadata": {},
   "outputs": [],
   "source": [
    "df0 = pd.read_csv('adult.csv', header=None)\n",
    "df1 = pd.read_csv('adult_test.csv', header=None)"
   ]
  },
  {
   "cell_type": "code",
   "execution_count": 8,
   "metadata": {},
   "outputs": [],
   "source": [
    "headers = ['age', 'work_class', 'fnlwgt', 'education', 'education_num', 'martial_status', 'occupation', 'relationship', \\\n",
    "          'race', 'sex', 'capital_gain', 'capital_loss', 'hours_per_week', 'native_country', 'annual_salary']"
   ]
  },
  {
   "cell_type": "code",
   "execution_count": 9,
   "metadata": {},
   "outputs": [],
   "source": [
    "df0.columns = headers"
   ]
  },
  {
   "cell_type": "code",
   "execution_count": 10,
   "metadata": {
    "scrolled": false
   },
   "outputs": [
    {
     "data": {
      "text/html": [
       "<div>\n",
       "<style scoped>\n",
       "    .dataframe tbody tr th:only-of-type {\n",
       "        vertical-align: middle;\n",
       "    }\n",
       "\n",
       "    .dataframe tbody tr th {\n",
       "        vertical-align: top;\n",
       "    }\n",
       "\n",
       "    .dataframe thead th {\n",
       "        text-align: right;\n",
       "    }\n",
       "</style>\n",
       "<table border=\"1\" class=\"dataframe\">\n",
       "  <thead>\n",
       "    <tr style=\"text-align: right;\">\n",
       "      <th></th>\n",
       "      <th>age</th>\n",
       "      <th>work_class</th>\n",
       "      <th>fnlwgt</th>\n",
       "      <th>education</th>\n",
       "      <th>education_num</th>\n",
       "      <th>martial_status</th>\n",
       "      <th>occupation</th>\n",
       "      <th>relationship</th>\n",
       "      <th>race</th>\n",
       "      <th>sex</th>\n",
       "      <th>capital_gain</th>\n",
       "      <th>capital_loss</th>\n",
       "      <th>hours_per_week</th>\n",
       "      <th>native_country</th>\n",
       "      <th>annual_salary</th>\n",
       "    </tr>\n",
       "  </thead>\n",
       "  <tbody>\n",
       "    <tr>\n",
       "      <th>0</th>\n",
       "      <td>39</td>\n",
       "      <td>State-gov</td>\n",
       "      <td>77516</td>\n",
       "      <td>Bachelors</td>\n",
       "      <td>13</td>\n",
       "      <td>Never-married</td>\n",
       "      <td>Adm-clerical</td>\n",
       "      <td>Not-in-family</td>\n",
       "      <td>White</td>\n",
       "      <td>Male</td>\n",
       "      <td>2174</td>\n",
       "      <td>0</td>\n",
       "      <td>40</td>\n",
       "      <td>United-States</td>\n",
       "      <td>&lt;=50K</td>\n",
       "    </tr>\n",
       "    <tr>\n",
       "      <th>1</th>\n",
       "      <td>50</td>\n",
       "      <td>Self-emp-not-inc</td>\n",
       "      <td>83311</td>\n",
       "      <td>Bachelors</td>\n",
       "      <td>13</td>\n",
       "      <td>Married-civ-spouse</td>\n",
       "      <td>Exec-managerial</td>\n",
       "      <td>Husband</td>\n",
       "      <td>White</td>\n",
       "      <td>Male</td>\n",
       "      <td>0</td>\n",
       "      <td>0</td>\n",
       "      <td>13</td>\n",
       "      <td>United-States</td>\n",
       "      <td>&lt;=50K</td>\n",
       "    </tr>\n",
       "    <tr>\n",
       "      <th>2</th>\n",
       "      <td>38</td>\n",
       "      <td>Private</td>\n",
       "      <td>215646</td>\n",
       "      <td>HS-grad</td>\n",
       "      <td>9</td>\n",
       "      <td>Divorced</td>\n",
       "      <td>Handlers-cleaners</td>\n",
       "      <td>Not-in-family</td>\n",
       "      <td>White</td>\n",
       "      <td>Male</td>\n",
       "      <td>0</td>\n",
       "      <td>0</td>\n",
       "      <td>40</td>\n",
       "      <td>United-States</td>\n",
       "      <td>&lt;=50K</td>\n",
       "    </tr>\n",
       "    <tr>\n",
       "      <th>3</th>\n",
       "      <td>53</td>\n",
       "      <td>Private</td>\n",
       "      <td>234721</td>\n",
       "      <td>11th</td>\n",
       "      <td>7</td>\n",
       "      <td>Married-civ-spouse</td>\n",
       "      <td>Handlers-cleaners</td>\n",
       "      <td>Husband</td>\n",
       "      <td>Black</td>\n",
       "      <td>Male</td>\n",
       "      <td>0</td>\n",
       "      <td>0</td>\n",
       "      <td>40</td>\n",
       "      <td>United-States</td>\n",
       "      <td>&lt;=50K</td>\n",
       "    </tr>\n",
       "    <tr>\n",
       "      <th>4</th>\n",
       "      <td>28</td>\n",
       "      <td>Private</td>\n",
       "      <td>338409</td>\n",
       "      <td>Bachelors</td>\n",
       "      <td>13</td>\n",
       "      <td>Married-civ-spouse</td>\n",
       "      <td>Prof-specialty</td>\n",
       "      <td>Wife</td>\n",
       "      <td>Black</td>\n",
       "      <td>Female</td>\n",
       "      <td>0</td>\n",
       "      <td>0</td>\n",
       "      <td>40</td>\n",
       "      <td>Cuba</td>\n",
       "      <td>&lt;=50K</td>\n",
       "    </tr>\n",
       "  </tbody>\n",
       "</table>\n",
       "</div>"
      ],
      "text/plain": [
       "   age         work_class  fnlwgt   education  education_num  \\\n",
       "0   39          State-gov   77516   Bachelors             13   \n",
       "1   50   Self-emp-not-inc   83311   Bachelors             13   \n",
       "2   38            Private  215646     HS-grad              9   \n",
       "3   53            Private  234721        11th              7   \n",
       "4   28            Private  338409   Bachelors             13   \n",
       "\n",
       "        martial_status          occupation    relationship    race      sex  \\\n",
       "0        Never-married        Adm-clerical   Not-in-family   White     Male   \n",
       "1   Married-civ-spouse     Exec-managerial         Husband   White     Male   \n",
       "2             Divorced   Handlers-cleaners   Not-in-family   White     Male   \n",
       "3   Married-civ-spouse   Handlers-cleaners         Husband   Black     Male   \n",
       "4   Married-civ-spouse      Prof-specialty            Wife   Black   Female   \n",
       "\n",
       "   capital_gain  capital_loss  hours_per_week  native_country annual_salary  \n",
       "0          2174             0              40   United-States         <=50K  \n",
       "1             0             0              13   United-States         <=50K  \n",
       "2             0             0              40   United-States         <=50K  \n",
       "3             0             0              40   United-States         <=50K  \n",
       "4             0             0              40            Cuba         <=50K  "
      ]
     },
     "execution_count": 10,
     "metadata": {},
     "output_type": "execute_result"
    }
   ],
   "source": [
    "df0.head()"
   ]
  },
  {
   "cell_type": "code",
   "execution_count": 11,
   "metadata": {},
   "outputs": [],
   "source": [
    "df1.columns = headers"
   ]
  },
  {
   "cell_type": "code",
   "execution_count": 12,
   "metadata": {
    "scrolled": true
   },
   "outputs": [
    {
     "data": {
      "text/html": [
       "<div>\n",
       "<style scoped>\n",
       "    .dataframe tbody tr th:only-of-type {\n",
       "        vertical-align: middle;\n",
       "    }\n",
       "\n",
       "    .dataframe tbody tr th {\n",
       "        vertical-align: top;\n",
       "    }\n",
       "\n",
       "    .dataframe thead th {\n",
       "        text-align: right;\n",
       "    }\n",
       "</style>\n",
       "<table border=\"1\" class=\"dataframe\">\n",
       "  <thead>\n",
       "    <tr style=\"text-align: right;\">\n",
       "      <th></th>\n",
       "      <th>age</th>\n",
       "      <th>work_class</th>\n",
       "      <th>fnlwgt</th>\n",
       "      <th>education</th>\n",
       "      <th>education_num</th>\n",
       "      <th>martial_status</th>\n",
       "      <th>occupation</th>\n",
       "      <th>relationship</th>\n",
       "      <th>race</th>\n",
       "      <th>sex</th>\n",
       "      <th>capital_gain</th>\n",
       "      <th>capital_loss</th>\n",
       "      <th>hours_per_week</th>\n",
       "      <th>native_country</th>\n",
       "      <th>annual_salary</th>\n",
       "    </tr>\n",
       "  </thead>\n",
       "  <tbody>\n",
       "    <tr>\n",
       "      <th>0</th>\n",
       "      <td>25</td>\n",
       "      <td>Private</td>\n",
       "      <td>226802</td>\n",
       "      <td>11th</td>\n",
       "      <td>7</td>\n",
       "      <td>Never-married</td>\n",
       "      <td>Machine-op-inspct</td>\n",
       "      <td>Own-child</td>\n",
       "      <td>Black</td>\n",
       "      <td>Male</td>\n",
       "      <td>0</td>\n",
       "      <td>0</td>\n",
       "      <td>40</td>\n",
       "      <td>United-States</td>\n",
       "      <td>&lt;=50K.</td>\n",
       "    </tr>\n",
       "    <tr>\n",
       "      <th>1</th>\n",
       "      <td>38</td>\n",
       "      <td>Private</td>\n",
       "      <td>89814</td>\n",
       "      <td>HS-grad</td>\n",
       "      <td>9</td>\n",
       "      <td>Married-civ-spouse</td>\n",
       "      <td>Farming-fishing</td>\n",
       "      <td>Husband</td>\n",
       "      <td>White</td>\n",
       "      <td>Male</td>\n",
       "      <td>0</td>\n",
       "      <td>0</td>\n",
       "      <td>50</td>\n",
       "      <td>United-States</td>\n",
       "      <td>&lt;=50K.</td>\n",
       "    </tr>\n",
       "    <tr>\n",
       "      <th>2</th>\n",
       "      <td>28</td>\n",
       "      <td>Local-gov</td>\n",
       "      <td>336951</td>\n",
       "      <td>Assoc-acdm</td>\n",
       "      <td>12</td>\n",
       "      <td>Married-civ-spouse</td>\n",
       "      <td>Protective-serv</td>\n",
       "      <td>Husband</td>\n",
       "      <td>White</td>\n",
       "      <td>Male</td>\n",
       "      <td>0</td>\n",
       "      <td>0</td>\n",
       "      <td>40</td>\n",
       "      <td>United-States</td>\n",
       "      <td>&gt;50K.</td>\n",
       "    </tr>\n",
       "    <tr>\n",
       "      <th>3</th>\n",
       "      <td>44</td>\n",
       "      <td>Private</td>\n",
       "      <td>160323</td>\n",
       "      <td>Some-college</td>\n",
       "      <td>10</td>\n",
       "      <td>Married-civ-spouse</td>\n",
       "      <td>Machine-op-inspct</td>\n",
       "      <td>Husband</td>\n",
       "      <td>Black</td>\n",
       "      <td>Male</td>\n",
       "      <td>7688</td>\n",
       "      <td>0</td>\n",
       "      <td>40</td>\n",
       "      <td>United-States</td>\n",
       "      <td>&gt;50K.</td>\n",
       "    </tr>\n",
       "    <tr>\n",
       "      <th>4</th>\n",
       "      <td>18</td>\n",
       "      <td>?</td>\n",
       "      <td>103497</td>\n",
       "      <td>Some-college</td>\n",
       "      <td>10</td>\n",
       "      <td>Never-married</td>\n",
       "      <td>?</td>\n",
       "      <td>Own-child</td>\n",
       "      <td>White</td>\n",
       "      <td>Female</td>\n",
       "      <td>0</td>\n",
       "      <td>0</td>\n",
       "      <td>30</td>\n",
       "      <td>United-States</td>\n",
       "      <td>&lt;=50K.</td>\n",
       "    </tr>\n",
       "  </tbody>\n",
       "</table>\n",
       "</div>"
      ],
      "text/plain": [
       "   age  work_class  fnlwgt      education  education_num       martial_status  \\\n",
       "0   25     Private  226802           11th              7        Never-married   \n",
       "1   38     Private   89814        HS-grad              9   Married-civ-spouse   \n",
       "2   28   Local-gov  336951     Assoc-acdm             12   Married-civ-spouse   \n",
       "3   44     Private  160323   Some-college             10   Married-civ-spouse   \n",
       "4   18           ?  103497   Some-college             10        Never-married   \n",
       "\n",
       "           occupation relationship    race      sex  capital_gain  \\\n",
       "0   Machine-op-inspct    Own-child   Black     Male             0   \n",
       "1     Farming-fishing      Husband   White     Male             0   \n",
       "2     Protective-serv      Husband   White     Male             0   \n",
       "3   Machine-op-inspct      Husband   Black     Male          7688   \n",
       "4                   ?    Own-child   White   Female             0   \n",
       "\n",
       "   capital_loss  hours_per_week  native_country annual_salary  \n",
       "0             0              40   United-States        <=50K.  \n",
       "1             0              50   United-States        <=50K.  \n",
       "2             0              40   United-States         >50K.  \n",
       "3             0              40   United-States         >50K.  \n",
       "4             0              30   United-States        <=50K.  "
      ]
     },
     "execution_count": 12,
     "metadata": {},
     "output_type": "execute_result"
    }
   ],
   "source": [
    "df1.head()"
   ]
  },
  {
   "cell_type": "markdown",
   "metadata": {},
   "source": [
    "# EDA"
   ]
  },
  {
   "cell_type": "code",
   "execution_count": 13,
   "metadata": {
    "scrolled": true
   },
   "outputs": [
    {
     "name": "stdout",
     "output_type": "stream",
     "text": [
      "<class 'pandas.core.frame.DataFrame'>\n",
      "RangeIndex: 32561 entries, 0 to 32560\n",
      "Data columns (total 15 columns):\n",
      "age               32561 non-null int64\n",
      "work_class        32561 non-null object\n",
      "fnlwgt            32561 non-null int64\n",
      "education         32561 non-null object\n",
      "education_num     32561 non-null int64\n",
      "martial_status    32561 non-null object\n",
      "occupation        32561 non-null object\n",
      "relationship      32561 non-null object\n",
      "race              32561 non-null object\n",
      "sex               32561 non-null object\n",
      "capital_gain      32561 non-null int64\n",
      "capital_loss      32561 non-null int64\n",
      "hours_per_week    32561 non-null int64\n",
      "native_country    32561 non-null object\n",
      "annual_salary     32561 non-null object\n",
      "dtypes: int64(6), object(9)\n",
      "memory usage: 3.7+ MB\n"
     ]
    }
   ],
   "source": [
    "df0.info()"
   ]
  },
  {
   "cell_type": "markdown",
   "metadata": {},
   "source": [
    "### Checking for null values and inconsistency\n",
    "\n",
    "Now that we have the dataframes properly working we're going to move on to checking them for issues such as null values, mislabeled values, or serious outliers. \n",
    "\n",
    "Once we locate anything like this we'll clean up the null and mislabeled values and then consider our options with the outliers when we get to feature engineering."
   ]
  },
  {
   "cell_type": "code",
   "execution_count": 14,
   "metadata": {},
   "outputs": [
    {
     "name": "stdout",
     "output_type": "stream",
     "text": [
      "age\n",
      "\n",
      "[39 50 38 53 28 37 49 52 31 42 30 23 32 40 34 25 43 54 35 59 56 19 20 45\n",
      " 22 48 21 24 57 44 41 29 18 47 46 36 79 27 67 33 76 17 55 61 70 64 71 68\n",
      " 66 51 58 26 60 90 75 65 77 62 63 80 72 74 69 73 81 78 88 82 83 84 85 86\n",
      " 87]\n",
      "\n",
      "\n",
      "\n",
      "work_class\n",
      "\n",
      "[' State-gov' ' Self-emp-not-inc' ' Private' ' Federal-gov' ' Local-gov'\n",
      " ' ?' ' Self-emp-inc' ' Without-pay' ' Never-worked']\n",
      "\n",
      "\n",
      "\n",
      "fnlwgt\n",
      "\n",
      "[ 77516  83311 215646 ...  34066  84661 257302]\n",
      "\n",
      "\n",
      "\n",
      "education\n",
      "\n",
      "[' Bachelors' ' HS-grad' ' 11th' ' Masters' ' 9th' ' Some-college'\n",
      " ' Assoc-acdm' ' Assoc-voc' ' 7th-8th' ' Doctorate' ' Prof-school'\n",
      " ' 5th-6th' ' 10th' ' 1st-4th' ' Preschool' ' 12th']\n",
      "\n",
      "\n",
      "\n",
      "education_num\n",
      "\n",
      "[13  9  7 14  5 10 12 11  4 16 15  3  6  2  1  8]\n",
      "\n",
      "\n",
      "\n",
      "martial_status\n",
      "\n",
      "[' Never-married' ' Married-civ-spouse' ' Divorced'\n",
      " ' Married-spouse-absent' ' Separated' ' Married-AF-spouse' ' Widowed']\n",
      "\n",
      "\n",
      "\n",
      "occupation\n",
      "\n",
      "[' Adm-clerical' ' Exec-managerial' ' Handlers-cleaners' ' Prof-specialty'\n",
      " ' Other-service' ' Sales' ' Craft-repair' ' Transport-moving'\n",
      " ' Farming-fishing' ' Machine-op-inspct' ' Tech-support' ' ?'\n",
      " ' Protective-serv' ' Armed-Forces' ' Priv-house-serv']\n",
      "\n",
      "\n",
      "\n",
      "relationship\n",
      "\n",
      "[' Not-in-family' ' Husband' ' Wife' ' Own-child' ' Unmarried'\n",
      " ' Other-relative']\n",
      "\n",
      "\n",
      "\n",
      "race\n",
      "\n",
      "[' White' ' Black' ' Asian-Pac-Islander' ' Amer-Indian-Eskimo' ' Other']\n",
      "\n",
      "\n",
      "\n",
      "sex\n",
      "\n",
      "[' Male' ' Female']\n",
      "\n",
      "\n",
      "\n",
      "capital_gain\n",
      "\n",
      "[ 2174     0 14084  5178  5013  2407 14344 15024  7688 34095  4064  4386\n",
      "  7298  1409  3674  1055  3464  2050  2176   594 20051  6849  4101  1111\n",
      "  8614  3411  2597 25236  4650  9386  2463  3103 10605  2964  3325  2580\n",
      "  3471  4865 99999  6514  1471  2329  2105  2885 25124 10520  2202  2961\n",
      " 27828  6767  2228  1506 13550  2635  5556  4787  3781  3137  3818  3942\n",
      "   914   401  2829  2977  4934  2062  2354  5455 15020  1424  3273 22040\n",
      "  4416  3908 10566   991  4931  1086  7430  6497   114  7896  2346  3418\n",
      "  3432  2907  1151  2414  2290 15831 41310  4508  2538  3456  6418  1848\n",
      "  3887  5721  9562  1455  2036  1831 11678  2936  2993  7443  6360  1797\n",
      "  1173  4687  6723  2009  6097  2653  1639 18481  7978  2387  5060]\n",
      "\n",
      "\n",
      "\n",
      "capital_loss\n",
      "\n",
      "[   0 2042 1408 1902 1573 1887 1719 1762 1564 2179 1816 1980 1977 1876\n",
      " 1340 2206 1741 1485 2339 2415 1380 1721 2051 2377 1669 2352 1672  653\n",
      " 2392 1504 2001 1590 1651 1628 1848 1740 2002 1579 2258 1602  419 2547\n",
      " 2174 2205 1726 2444 1138 2238  625  213 1539  880 1668 1092 1594 3004\n",
      " 2231 1844  810 2824 2559 2057 1974  974 2149 1825 1735 1258 2129 2603\n",
      " 2282  323 4356 2246 1617 1648 2489 3770 1755 3683 2267 2080 2457  155\n",
      " 3900 2201 1944 2467 2163 2754 2472 1411]\n",
      "\n",
      "\n",
      "\n",
      "hours_per_week\n",
      "\n",
      "[40 13 16 45 50 80 30 35 60 20 52 44 15 25 38 43 55 48 58 32 70  2 22 56\n",
      " 41 28 36 24 46 42 12 65  1 10 34 75 98 33 54  8  6 64 19 18 72  5  9 47\n",
      " 37 21 26 14  4 59  7 99 53 39 62 57 78 90 66 11 49 84  3 17 68 27 85 31\n",
      " 51 77 63 23 87 88 73 89 97 94 29 96 67 82 86 91 81 76 92 61 74 95]\n",
      "\n",
      "\n",
      "\n",
      "native_country\n",
      "\n",
      "[' United-States' ' Cuba' ' Jamaica' ' India' ' ?' ' Mexico' ' South'\n",
      " ' Puerto-Rico' ' Honduras' ' England' ' Canada' ' Germany' ' Iran'\n",
      " ' Philippines' ' Italy' ' Poland' ' Columbia' ' Cambodia' ' Thailand'\n",
      " ' Ecuador' ' Laos' ' Taiwan' ' Haiti' ' Portugal' ' Dominican-Republic'\n",
      " ' El-Salvador' ' France' ' Guatemala' ' China' ' Japan' ' Yugoslavia'\n",
      " ' Peru' ' Outlying-US(Guam-USVI-etc)' ' Scotland' ' Trinadad&Tobago'\n",
      " ' Greece' ' Nicaragua' ' Vietnam' ' Hong' ' Ireland' ' Hungary'\n",
      " ' Holand-Netherlands']\n",
      "\n",
      "\n",
      "\n",
      "annual_salary\n",
      "\n",
      "[' <=50K' ' >50K']\n",
      "\n",
      "\n",
      "\n"
     ]
    }
   ],
   "source": [
    "for i in headers:\n",
    "    print(i + '\\n')\n",
    "    print(df0[i].unique())\n",
    "    print('\\n' + '\\n')"
   ]
  },
  {
   "cell_type": "code",
   "execution_count": 15,
   "metadata": {},
   "outputs": [
    {
     "data": {
      "text/plain": [
       "age               0\n",
       "work_class        0\n",
       "fnlwgt            0\n",
       "education         0\n",
       "education_num     0\n",
       "martial_status    0\n",
       "occupation        0\n",
       "relationship      0\n",
       "race              0\n",
       "sex               0\n",
       "capital_gain      0\n",
       "capital_loss      0\n",
       "hours_per_week    0\n",
       "native_country    0\n",
       "annual_salary     0\n",
       "dtype: int64"
      ]
     },
     "execution_count": 15,
     "metadata": {},
     "output_type": "execute_result"
    }
   ],
   "source": [
    "df0.isna().sum()"
   ]
  },
  {
   "cell_type": "code",
   "execution_count": 16,
   "metadata": {},
   "outputs": [
    {
     "name": "stdout",
     "output_type": "stream",
     "text": [
      "age\n",
      "\n",
      "[25 38 28 44 18 34 29 63 24 55 65 36 26 58 48 43 20 37 40 72 45 22 23 54\n",
      " 32 46 56 17 39 52 21 42 33 30 47 41 19 69 50 31 59 49 51 27 57 61 64 79\n",
      " 73 53 77 80 62 35 68 66 75 60 67 71 70 90 81 74 78 82 83 85 76 84 89 88\n",
      " 87]\n",
      "\n",
      "\n",
      "\n",
      "work_class\n",
      "\n",
      "[' Private' ' Local-gov' ' ?' ' Self-emp-not-inc' ' Federal-gov'\n",
      " ' State-gov' ' Self-emp-inc' ' Without-pay' ' Never-worked']\n",
      "\n",
      "\n",
      "\n",
      "fnlwgt\n",
      "\n",
      "[226802  89814 336951 ... 349230 321403  83891]\n",
      "\n",
      "\n",
      "\n",
      "education\n",
      "\n",
      "[' 11th' ' HS-grad' ' Assoc-acdm' ' Some-college' ' 10th' ' Prof-school'\n",
      " ' 7th-8th' ' Bachelors' ' Masters' ' Doctorate' ' 5th-6th' ' Assoc-voc'\n",
      " ' 9th' ' 12th' ' 1st-4th' ' Preschool']\n",
      "\n",
      "\n",
      "\n",
      "education_num\n",
      "\n",
      "[ 7  9 12 10  6 15  4 13 14 16  3 11  5  8  2  1]\n",
      "\n",
      "\n",
      "\n",
      "martial_status\n",
      "\n",
      "[' Never-married' ' Married-civ-spouse' ' Widowed' ' Divorced'\n",
      " ' Separated' ' Married-spouse-absent' ' Married-AF-spouse']\n",
      "\n",
      "\n",
      "\n",
      "occupation\n",
      "\n",
      "[' Machine-op-inspct' ' Farming-fishing' ' Protective-serv' ' ?'\n",
      " ' Other-service' ' Prof-specialty' ' Craft-repair' ' Adm-clerical'\n",
      " ' Exec-managerial' ' Tech-support' ' Sales' ' Priv-house-serv'\n",
      " ' Transport-moving' ' Handlers-cleaners' ' Armed-Forces']\n",
      "\n",
      "\n",
      "\n",
      "relationship\n",
      "\n",
      "[' Own-child' ' Husband' ' Not-in-family' ' Unmarried' ' Wife'\n",
      " ' Other-relative']\n",
      "\n",
      "\n",
      "\n",
      "race\n",
      "\n",
      "[' Black' ' White' ' Asian-Pac-Islander' ' Other' ' Amer-Indian-Eskimo']\n",
      "\n",
      "\n",
      "\n",
      "sex\n",
      "\n",
      "[' Male' ' Female']\n",
      "\n",
      "\n",
      "\n",
      "capital_gain\n",
      "\n",
      "[    0  7688  3103  6418  7298  3908 14084  5178 15024 99999  2597  2907\n",
      "  4650  6497  1055  5013 27828  4934  4064  3674  2174 10605  3418   114\n",
      "  2580  3411  4508  4386  8614 13550  6849  2463  3137  2885  2964  1471\n",
      " 10566  2354  1424  1455  3325  4416 25236   594  2105  4787  2829   401\n",
      "  4865  1264  1506 10520  3464  2653 20051  4101  1797  2407  3471  1086\n",
      "  1848 14344  1151  2993  2290 15020  9386  2202  3818  2176  5455 11678\n",
      "  7978  7262  6514 41310  3456  7430  2414  2062 34095  1831  6723  5060\n",
      " 15831  2977  2346  3273  2329  9562  2635  4931  1731  6097   914  7896\n",
      "  5556  1409  3781  3942  2538  3887 25124  7443  5721  1173  4687  6612\n",
      "  6767  2961   991  2036  2936]\n",
      "\n",
      "\n",
      "\n",
      "capital_loss\n",
      "\n",
      "[   0 1721 1876 2415 1887  625 1977 2057 1429 1590 1485 2051 2377 1672\n",
      " 1628 1902 1602 1741 2444 1408 2001 2042 1740 1825 1848 1719 3004 2179\n",
      " 1573 2205 1258 2339 1726 2258 1340 1504 2559 1668 1974 1980 1564 2547\n",
      " 2002 1669 1617  323 3175 2472 2174 1579 2129 1510 1735 2282 1870 1411\n",
      " 1911 1651 1092 1762 2457 2231 2238  653 1138 2246 2603 2392 1944 1380\n",
      " 2465 1421 3770 1594  213 2149 2824 1844 2467 2163 1816 1648]\n",
      "\n",
      "\n",
      "\n",
      "hours_per_week\n",
      "\n",
      "[40 50 30 32 10 39 35 48 25 20 45 47  6 43 90 54 60 38 36 18 24 44 56 28\n",
      " 16 41 22 55 14 33 37  8 12 70 15 75 52 84 42 80 68 99 65  5 17 72 53 29\n",
      " 96 21 46  3  1 23 49 67 76  7  2 58 26 34  4 51 78 63 31 92 77 27 85 13\n",
      " 19 98 62 66 57 11 86 59  9 64 73 61 88 79 89 74 69]\n",
      "\n",
      "\n",
      "\n",
      "native_country\n",
      "\n",
      "[' United-States' ' ?' ' Peru' ' Guatemala' ' Mexico'\n",
      " ' Dominican-Republic' ' Ireland' ' Germany' ' Philippines' ' Thailand'\n",
      " ' Haiti' ' El-Salvador' ' Puerto-Rico' ' Vietnam' ' South' ' Columbia'\n",
      " ' Japan' ' India' ' Cambodia' ' Poland' ' Laos' ' England' ' Cuba'\n",
      " ' Taiwan' ' Italy' ' Canada' ' Portugal' ' China' ' Nicaragua'\n",
      " ' Honduras' ' Iran' ' Scotland' ' Jamaica' ' Ecuador' ' Yugoslavia'\n",
      " ' Hungary' ' Hong' ' Greece' ' Trinadad&Tobago'\n",
      " ' Outlying-US(Guam-USVI-etc)' ' France']\n",
      "\n",
      "\n",
      "\n",
      "annual_salary\n",
      "\n",
      "[' <=50K.' ' >50K.']\n",
      "\n",
      "\n",
      "\n"
     ]
    }
   ],
   "source": [
    "for i in headers:\n",
    "    print(i + '\\n')\n",
    "    print(df1[i].unique())\n",
    "    print('\\n' + '\\n')"
   ]
  },
  {
   "cell_type": "code",
   "execution_count": 17,
   "metadata": {
    "scrolled": true
   },
   "outputs": [
    {
     "data": {
      "text/plain": [
       "age               0\n",
       "work_class        0\n",
       "fnlwgt            0\n",
       "education         0\n",
       "education_num     0\n",
       "martial_status    0\n",
       "occupation        0\n",
       "relationship      0\n",
       "race              0\n",
       "sex               0\n",
       "capital_gain      0\n",
       "capital_loss      0\n",
       "hours_per_week    0\n",
       "native_country    0\n",
       "annual_salary     0\n",
       "dtype: int64"
      ]
     },
     "execution_count": 17,
     "metadata": {},
     "output_type": "execute_result"
    }
   ],
   "source": [
    "df1.isna().sum()"
   ]
  },
  {
   "cell_type": "markdown",
   "metadata": {},
   "source": [
    "#### Review of each column\n",
    "\n",
    "First and foremost since we are working with a test and train set we already know that they're going to share similar issues so I will be cleaning both up at the same time. \n",
    "\n",
    "* <b>Age</b>\n",
    "<br>    No issues. \n",
    "\n",
    "    Going over the ages it seems that everyone put into it are 18 or older but considering there are over 30K entries I would have thought every age would be covered from 18 onwards but that's not an issue. \n",
    "    \n",
    "\n",
    "* <b>Working Classifications</b>\n",
    "<br>    Some label issues. \n",
    "    \n",
    "    For those who are not familiar with how self employment work they may not know the difference between being incorporated or unincorporated. Incorporated Self Employment refers to people who work for themselves in a corporate entity--similar to contract work. While Unincorporated Self Employment refers to one who works for themselves in other legal entities.\n",
    "    \n",
    "    There are also some people listed as without-pay and ?. The first group probably implies those who are on leave and without pay during said leave or those who are on probation. The other just means that they are not sure of their legal working status so we'll be changing those ones to another name to keep things easier to understand. There are also spaces at the front of each label that will be removed.\n",
    "    \n",
    "\n",
    "* <b>Final Weight</b>\n",
    "<br>    Some readability issues.\n",
    "\n",
    "    No real information was given in the attribute information tab of the data so I had to dig around on this one. It turns out that this has to do with Survey of Income and Program Participation (SIPP) and it's used to help deal with biases found within the data. \n",
    "    \n",
    "    While this information is probably helpful for those who know more about census data and how to extrapolate information from this, I am not one of those people so I will be dropping this column.\n",
    "   \n",
    "\n",
    "* <b>Education</b>\n",
    "<br>    Some label issues.\n",
    "\n",
    "    At first glance this column and the following seem redundant. However the next one does not mark the year the person went to school to so most of the working names for this group were just provided numerical entries in the next colunn. \n",
    "    \n",
    "    After going through them it became clear that they were meant to order the columns education system for legibility. However there are spaces at the front of each variable that I'll be removing.\n",
    "\n",
    "\n",
    "* <b>Education Number</b>\n",
    "<br>    No issues.\n",
    "\n",
    "    The following column has nothing to do with what year you stopped going to schoool. These are just identifiers for the 'Education' column.\n",
    "\n",
    "\n",
    "* <b>Martial Status</b>\n",
    "<br>    Some readability issues and label issues.\n",
    "\n",
    "    Most of the labels are self-explanatory but the one labeled 'Married-AF-Spouse' does not mean 'married-as-f%#&-spouse', it means 'Married-Armed-Forces-spouse'. For the sake of clarity and the joke I wanted to make sure everyone knew the difference going forward.\n",
    "    \n",
    "    There are also spaces in front of each of these options too.\n",
    "\n",
    "\n",
    "* <b>Occupation</b>\n",
    "<br>    Some label issues.\n",
    "\n",
    "    The column was clean minus the '?' data which I initially thought to move to 'Other-service' option since they seem to be within the same group but it may refer to 'No-occupation' which is not an option either so I'll need to look into it further.\n",
    "    \n",
    "    There are also space in front of each option.\n",
    "\n",
    "\n",
    "* <b>Relationship</b>\n",
    "<br>    Some label issues.\n",
    "\n",
    "    The labels themselves are fine but they have uneccessary spaces in the front again.\n",
    "\n",
    "\n",
    "* <b>Race</b>\n",
    "<br>    Some label issues.\n",
    "\n",
    "    There are spaces in front that need to be removed. On top of that this information will be highly skewed since it does not represent many ethnic groups that should be listed. \n",
    "\n",
    "\n",
    "* <b>Sex</b>\n",
    "<br>    Some label issues.\n",
    "\n",
    "    The labels have spaces in front of them.\n",
    "    \n",
    "\n",
    "* <b>Capital Gains</b>\n",
    "<br>    Some potential issues.\n",
    "\n",
    "    This means income outside of your wage/salary. \n",
    "    \n",
    "    But what may be an issues is if someone reports a number in this column and the Capital Losses column and one of them isn't '0'. That means there is inconsistency in their reporting.\n",
    "\n",
    "\n",
    "* <b>Capital Losses</b>\n",
    "<br>    Some potential issues.\n",
    "\n",
    "    This means loss of income outside of your wage/salary. \n",
    "    \n",
    "    The issue is liste in the Capital Gains column review.\n",
    "\n",
    "\n",
    "* <b>Hours Worked per Week</b>\n",
    "<br>    Some potential issues.\n",
    "\n",
    "    After scanning the answers it seems taht no answer on there was a '?' or '0' but the people who don't have jobs had to have put something down so this information may be skewed on what people classify as working.\n",
    "\n",
    "\n",
    "\n",
    "* <b>Native Country</b>\n",
    "<br>    Some label issues.\n",
    "\n",
    "    There are the constant spaces problem that the entire dataset is riddled with but there is also one smaller mistake in that Hong Kong is just listed as Hong. \n",
    "\n",
    "\n",
    "* <b>Annual Salary</b>\n",
    "<br>   Some label issues.\n",
    "\n",
    "    There are spaces in front of the options."
   ]
  },
  {
   "cell_type": "markdown",
   "metadata": {},
   "source": [
    "### Cleaning the Data\n",
    "\n",
    "Now that we have the review of each column out of the way, we now know what we need to fix up and get corrected or inspected. This makes the cleaning process that much easier.\n",
    "\n",
    "And since we know that there are a serious number of extra spaces found in a majority of columns we're going to make a simple loop to clean those out before we clean each column."
   ]
  },
  {
   "cell_type": "markdown",
   "metadata": {},
   "source": [
    "#### Fixing all of the space issues\n",
    "\n",
    "First thing I need to do is make sure that I make an array that only has string columns in it. Since those are the ones with the issues."
   ]
  },
  {
   "cell_type": "code",
   "execution_count": 18,
   "metadata": {
    "scrolled": true
   },
   "outputs": [
    {
     "name": "stdout",
     "output_type": "stream",
     "text": [
      "<class 'pandas.core.frame.DataFrame'>\n",
      "RangeIndex: 32561 entries, 0 to 32560\n",
      "Data columns (total 15 columns):\n",
      "age               32561 non-null int64\n",
      "work_class        32561 non-null object\n",
      "fnlwgt            32561 non-null int64\n",
      "education         32561 non-null object\n",
      "education_num     32561 non-null int64\n",
      "martial_status    32561 non-null object\n",
      "occupation        32561 non-null object\n",
      "relationship      32561 non-null object\n",
      "race              32561 non-null object\n",
      "sex               32561 non-null object\n",
      "capital_gain      32561 non-null int64\n",
      "capital_loss      32561 non-null int64\n",
      "hours_per_week    32561 non-null int64\n",
      "native_country    32561 non-null object\n",
      "annual_salary     32561 non-null object\n",
      "dtypes: int64(6), object(9)\n",
      "memory usage: 3.7+ MB\n"
     ]
    }
   ],
   "source": [
    "df0.info()"
   ]
  },
  {
   "cell_type": "code",
   "execution_count": 19,
   "metadata": {
    "scrolled": true
   },
   "outputs": [
    {
     "data": {
      "text/plain": [
       "Index(['age', 'work_class', 'fnlwgt', 'education', 'education_num',\n",
       "       'martial_status', 'occupation', 'relationship', 'race', 'sex',\n",
       "       'capital_gain', 'capital_loss', 'hours_per_week', 'native_country',\n",
       "       'annual_salary'],\n",
       "      dtype='object')"
      ]
     },
     "execution_count": 19,
     "metadata": {},
     "output_type": "execute_result"
    }
   ],
   "source": [
    "df0.columns"
   ]
  },
  {
   "cell_type": "code",
   "execution_count": 20,
   "metadata": {},
   "outputs": [],
   "source": [
    "# This list is used to collect all string columns so we can strip them of spaces\n",
    "\n",
    "no_str_headers = ['work_class', 'education', 'martial_status', 'occupation', 'relationship', 'race', 'sex', \\\n",
    "                  'native_country', 'annual_salary']"
   ]
  },
  {
   "cell_type": "code",
   "execution_count": 21,
   "metadata": {},
   "outputs": [],
   "source": [
    "# This list checks every column minus fnlwgt which is removed later on.\n",
    "\n",
    "headers_wo = ['age', 'work_class', 'education', 'education_num', 'martial_status', 'occupation', 'relationship', \\\n",
    "          'race', 'sex', 'capital_gain', 'capital_loss', 'hours_per_week', 'native_country', 'annual_salary']"
   ]
  },
  {
   "cell_type": "code",
   "execution_count": 22,
   "metadata": {},
   "outputs": [],
   "source": [
    "# This removes spaces from all of the string columns\n",
    "\n",
    "for i in no_str_headers:\n",
    "    df0[i] = df0[i].str.strip()\n",
    "    df1[i] = df1[i].str.strip()"
   ]
  },
  {
   "cell_type": "code",
   "execution_count": 23,
   "metadata": {
    "scrolled": true
   },
   "outputs": [
    {
     "name": "stdout",
     "output_type": "stream",
     "text": [
      "age\n",
      "\n",
      "[39 50 38 53 28 37 49 52 31 42 30 23 32 40 34 25 43 54 35 59 56 19 20 45\n",
      " 22 48 21 24 57 44 41 29 18 47 46 36 79 27 67 33 76 17 55 61 70 64 71 68\n",
      " 66 51 58 26 60 90 75 65 77 62 63 80 72 74 69 73 81 78 88 82 83 84 85 86\n",
      " 87]\n",
      "\n",
      "\n",
      "\n",
      "work_class\n",
      "\n",
      "['State-gov' 'Self-emp-not-inc' 'Private' 'Federal-gov' 'Local-gov' '?'\n",
      " 'Self-emp-inc' 'Without-pay' 'Never-worked']\n",
      "\n",
      "\n",
      "\n",
      "education\n",
      "\n",
      "['Bachelors' 'HS-grad' '11th' 'Masters' '9th' 'Some-college' 'Assoc-acdm'\n",
      " 'Assoc-voc' '7th-8th' 'Doctorate' 'Prof-school' '5th-6th' '10th'\n",
      " '1st-4th' 'Preschool' '12th']\n",
      "\n",
      "\n",
      "\n",
      "education_num\n",
      "\n",
      "[13  9  7 14  5 10 12 11  4 16 15  3  6  2  1  8]\n",
      "\n",
      "\n",
      "\n",
      "martial_status\n",
      "\n",
      "['Never-married' 'Married-civ-spouse' 'Divorced' 'Married-spouse-absent'\n",
      " 'Separated' 'Married-AF-spouse' 'Widowed']\n",
      "\n",
      "\n",
      "\n",
      "occupation\n",
      "\n",
      "['Adm-clerical' 'Exec-managerial' 'Handlers-cleaners' 'Prof-specialty'\n",
      " 'Other-service' 'Sales' 'Craft-repair' 'Transport-moving'\n",
      " 'Farming-fishing' 'Machine-op-inspct' 'Tech-support' '?'\n",
      " 'Protective-serv' 'Armed-Forces' 'Priv-house-serv']\n",
      "\n",
      "\n",
      "\n",
      "relationship\n",
      "\n",
      "['Not-in-family' 'Husband' 'Wife' 'Own-child' 'Unmarried' 'Other-relative']\n",
      "\n",
      "\n",
      "\n",
      "race\n",
      "\n",
      "['White' 'Black' 'Asian-Pac-Islander' 'Amer-Indian-Eskimo' 'Other']\n",
      "\n",
      "\n",
      "\n",
      "sex\n",
      "\n",
      "['Male' 'Female']\n",
      "\n",
      "\n",
      "\n",
      "capital_gain\n",
      "\n",
      "[ 2174     0 14084  5178  5013  2407 14344 15024  7688 34095  4064  4386\n",
      "  7298  1409  3674  1055  3464  2050  2176   594 20051  6849  4101  1111\n",
      "  8614  3411  2597 25236  4650  9386  2463  3103 10605  2964  3325  2580\n",
      "  3471  4865 99999  6514  1471  2329  2105  2885 25124 10520  2202  2961\n",
      " 27828  6767  2228  1506 13550  2635  5556  4787  3781  3137  3818  3942\n",
      "   914   401  2829  2977  4934  2062  2354  5455 15020  1424  3273 22040\n",
      "  4416  3908 10566   991  4931  1086  7430  6497   114  7896  2346  3418\n",
      "  3432  2907  1151  2414  2290 15831 41310  4508  2538  3456  6418  1848\n",
      "  3887  5721  9562  1455  2036  1831 11678  2936  2993  7443  6360  1797\n",
      "  1173  4687  6723  2009  6097  2653  1639 18481  7978  2387  5060]\n",
      "\n",
      "\n",
      "\n",
      "capital_loss\n",
      "\n",
      "[   0 2042 1408 1902 1573 1887 1719 1762 1564 2179 1816 1980 1977 1876\n",
      " 1340 2206 1741 1485 2339 2415 1380 1721 2051 2377 1669 2352 1672  653\n",
      " 2392 1504 2001 1590 1651 1628 1848 1740 2002 1579 2258 1602  419 2547\n",
      " 2174 2205 1726 2444 1138 2238  625  213 1539  880 1668 1092 1594 3004\n",
      " 2231 1844  810 2824 2559 2057 1974  974 2149 1825 1735 1258 2129 2603\n",
      " 2282  323 4356 2246 1617 1648 2489 3770 1755 3683 2267 2080 2457  155\n",
      " 3900 2201 1944 2467 2163 2754 2472 1411]\n",
      "\n",
      "\n",
      "\n",
      "hours_per_week\n",
      "\n",
      "[40 13 16 45 50 80 30 35 60 20 52 44 15 25 38 43 55 48 58 32 70  2 22 56\n",
      " 41 28 36 24 46 42 12 65  1 10 34 75 98 33 54  8  6 64 19 18 72  5  9 47\n",
      " 37 21 26 14  4 59  7 99 53 39 62 57 78 90 66 11 49 84  3 17 68 27 85 31\n",
      " 51 77 63 23 87 88 73 89 97 94 29 96 67 82 86 91 81 76 92 61 74 95]\n",
      "\n",
      "\n",
      "\n",
      "native_country\n",
      "\n",
      "['United-States' 'Cuba' 'Jamaica' 'India' '?' 'Mexico' 'South'\n",
      " 'Puerto-Rico' 'Honduras' 'England' 'Canada' 'Germany' 'Iran'\n",
      " 'Philippines' 'Italy' 'Poland' 'Columbia' 'Cambodia' 'Thailand' 'Ecuador'\n",
      " 'Laos' 'Taiwan' 'Haiti' 'Portugal' 'Dominican-Republic' 'El-Salvador'\n",
      " 'France' 'Guatemala' 'China' 'Japan' 'Yugoslavia' 'Peru'\n",
      " 'Outlying-US(Guam-USVI-etc)' 'Scotland' 'Trinadad&Tobago' 'Greece'\n",
      " 'Nicaragua' 'Vietnam' 'Hong' 'Ireland' 'Hungary' 'Holand-Netherlands']\n",
      "\n",
      "\n",
      "\n",
      "annual_salary\n",
      "\n",
      "['<=50K' '>50K']\n",
      "\n",
      "\n",
      "\n"
     ]
    }
   ],
   "source": [
    "# This was used to check for spaces afer running the for loop\n",
    "\n",
    "for i in headers_wo:\n",
    "    print(i + '\\n')\n",
    "    print(df0[i].unique())\n",
    "    print('\\n' + '\\n')"
   ]
  },
  {
   "cell_type": "markdown",
   "metadata": {},
   "source": [
    "Now that we have no more spaces throughout both df0 and df1 datasets we can move on to the other issues found."
   ]
  },
  {
   "cell_type": "code",
   "execution_count": 24,
   "metadata": {},
   "outputs": [],
   "source": [
    "# work_class\n",
    "\n",
    "df0['work_class'] = df0['work_class'].replace(to_replace = '?', value = 'Unknown')\n",
    "df1['work_class'] = df1['work_class'].replace(to_replace = '?', value = 'Unknown')\n",
    "\n",
    "# fnlwgt\n",
    "\n",
    "df0.drop(['fnlwgt'], axis = 1, inplace = True)\n",
    "df1.drop(['fnlwgt'], axis = 1, inplace = True)\n",
    "\n",
    "# occupation\n",
    "\n",
    "df0['occupation'] = df0['occupation'].replace(to_replace = '?', value = 'Unemployed/Never-Worked')\n",
    "df1['occupation'] = df1['occupation'].replace(to_replace = '?', value = 'Unemployed/Never-Worked')\n",
    "\n",
    "# native_country\n",
    "\n",
    "df0['native_country'] = df0['native_country'].replace(to_replace = 'Hong', value = 'Hong-Kong')\n",
    "df1['native_country'] = df1['native_country'].replace(to_replace = 'Hong', value = 'Hong-Kong')"
   ]
  },
  {
   "cell_type": "code",
   "execution_count": 25,
   "metadata": {},
   "outputs": [],
   "source": [
    "# Used to check if there are both integers that are not 0 in both categories since these are meant to be complimentary columns\n",
    "\n",
    "# df0.loc[(df0.capital_gain != 0) & (df0.capital_loss != 0)]\n",
    "\n",
    "# df1.loc[(df1.capital_gain != 0) & (df1.capital_loss != 0)]"
   ]
  },
  {
   "cell_type": "markdown",
   "metadata": {},
   "source": [
    "#### Final Remarks with cleaning\n",
    "\n",
    "Now that we have cleaned up and gone through any issue the data could have we should make sure that we won't mess up the original data anymore. We're going to copy them into new dataframe names so we will be able to restart from those if anything were to happen. \n",
    "\n",
    "After we copy them over we're going to do one final check to make sure that we covered all of the scrubbing that we had listed."
   ]
  },
  {
   "cell_type": "markdown",
   "metadata": {},
   "source": [
    "### Data Visualization\n",
    "\n",
    "We really didn't get an idea of if there are any outliers within the data from the cleaning so the first thing I want to do is go over every column for any extreme outliers."
   ]
  },
  {
   "cell_type": "code",
   "execution_count": 26,
   "metadata": {},
   "outputs": [
    {
     "name": "stdout",
     "output_type": "stream",
     "text": [
      "Total DataFrame\n",
      "                age  education_num  capital_gain  capital_loss  hours_per_week\n",
      "count  32561.000000   32561.000000  32561.000000  32561.000000    32561.000000\n",
      "mean      38.581647      10.080679   1077.648844     87.303830       40.437456\n",
      "std       13.640433       2.572720   7385.292085    402.960219       12.347429\n",
      "min       17.000000       1.000000      0.000000      0.000000        1.000000\n",
      "25%       28.000000       9.000000      0.000000      0.000000       40.000000\n",
      "50%       37.000000      10.000000      0.000000      0.000000       40.000000\n",
      "75%       48.000000      12.000000      0.000000      0.000000       45.000000\n",
      "max       90.000000      16.000000  99999.000000   4356.000000       99.000000\n",
      "\n",
      " \n",
      "\n",
      "Validation DataFrame\n",
      "                age  education_num  capital_gain  capital_loss  hours_per_week\n",
      "count  16281.000000   16281.000000  16281.000000  16281.000000    16281.000000\n",
      "mean      38.767459      10.072907   1081.905104     87.899269       40.392236\n",
      "std       13.849187       2.567545   7583.935968    403.105286       12.479332\n",
      "min       17.000000       1.000000      0.000000      0.000000        1.000000\n",
      "25%       28.000000       9.000000      0.000000      0.000000       40.000000\n",
      "50%       37.000000      10.000000      0.000000      0.000000       40.000000\n",
      "75%       48.000000      12.000000      0.000000      0.000000       45.000000\n",
      "max       90.000000      16.000000  99999.000000   3770.000000       99.000000\n"
     ]
    }
   ],
   "source": [
    "print('Total DataFrame')\n",
    "print(df0.describe())\n",
    "print('\\n \\n')\n",
    "print('Validation DataFrame')\n",
    "print(df1.describe())"
   ]
  },
  {
   "cell_type": "markdown",
   "metadata": {},
   "source": [
    "Well the quick rundown of these two dataframes are that their descriptions are pretty much the same minus the sample size. There is a huge discrepancy with capital gain, capital loss, and hours per week so we're going to check that for outliers below.\n",
    "\n",
    "### Outliers\n",
    "\n",
    "Here is a quick class made up to get the upper and lower limit of any standard deviation and it will also provide the max and min of the column to give us reference."
   ]
  },
  {
   "cell_type": "code",
   "execution_count": 27,
   "metadata": {},
   "outputs": [],
   "source": [
    "def outlier_check(df, x):\n",
    "    factor = x\n",
    "    upper_limit = 0\n",
    "    lower_limit = 0\n",
    "    upper_limit = df.mean() + df.std() * factor\n",
    "    lower_limit = df.mean() - df.std() * factor\n",
    "    print('Upper Limit: ')\n",
    "    print(upper_limit)\n",
    "    print('Lower Limit: ')\n",
    "    print(lower_limit)\n",
    "    print('Max: ')\n",
    "    print(df.max())\n",
    "    print('Min: ')\n",
    "    print(df.min())"
   ]
  },
  {
   "cell_type": "markdown",
   "metadata": {},
   "source": [
    "In order to make it look very clean we're going to do all three in one batch at a standard deviation of 3."
   ]
  },
  {
   "cell_type": "code",
   "execution_count": 28,
   "metadata": {
    "scrolled": false
   },
   "outputs": [
    {
     "name": "stdout",
     "output_type": "stream",
     "text": [
      "capital_gain\n",
      "Upper Limit: \n",
      "23233.525098229748\n",
      "Lower Limit: \n",
      "-21078.227410812284\n",
      "Max: \n",
      "99999\n",
      "Min: \n",
      "0\n",
      "None\n",
      "\n",
      "--------------------------------------------------\n",
      "\n",
      "capital_loss\n",
      "Upper Limit: \n",
      "1296.1844856819584\n",
      "Lower Limit: \n",
      "-1121.5768262120405\n",
      "Max: \n",
      "4356\n",
      "Min: \n",
      "0\n",
      "None\n",
      "\n",
      "--------------------------------------------------\n",
      "\n",
      "hours_per_week\n",
      "Upper Limit: \n",
      "77.47974189728853\n",
      "Lower Limit: \n",
      "3.3951698068974636\n",
      "Max: \n",
      "99\n",
      "Min: \n",
      "1\n",
      "None\n"
     ]
    }
   ],
   "source": [
    "print('capital_gain')\n",
    "print(outlier_check(df0['capital_gain'], 3))\n",
    "print('\\n' + '-' * 50 + '\\n')\n",
    "print('capital_loss')\n",
    "print(outlier_check(df0['capital_loss'], 3))\n",
    "print('\\n' + '-' * 50 + '\\n')\n",
    "print('hours_per_week')\n",
    "print(outlier_check(df0['hours_per_week'], 3))"
   ]
  },
  {
   "cell_type": "code",
   "execution_count": 29,
   "metadata": {},
   "outputs": [
    {
     "name": "stdout",
     "output_type": "stream",
     "text": [
      "capital_gain\n",
      "Upper Limit: \n",
      "23833.71300777034\n",
      "Lower Limit: \n",
      "-21669.90279955217\n",
      "Max: \n",
      "99999\n",
      "Min: \n",
      "0\n",
      "None\n",
      "\n",
      "--------------------------------------------------\n",
      "\n",
      "capital_loss\n",
      "Upper Limit: \n",
      "1297.2151259746092\n",
      "Lower Limit: \n",
      "-1121.4165878012782\n",
      "Max: \n",
      "3770\n",
      "Min: \n",
      "0\n",
      "None\n",
      "\n",
      "--------------------------------------------------\n",
      "\n",
      "hours_per_week\n",
      "Upper Limit: \n",
      "77.83023309045542\n",
      "Lower Limit: \n",
      "2.954239607781787\n",
      "Max: \n",
      "99\n",
      "Min: \n",
      "1\n",
      "None\n"
     ]
    }
   ],
   "source": [
    "print('capital_gain')\n",
    "print(outlier_check(df1['capital_gain'], 3))\n",
    "print('\\n' + '-' * 50 + '\\n')\n",
    "print('capital_loss')\n",
    "print(outlier_check(df1['capital_loss'], 3))\n",
    "print('\\n' + '-' * 50 + '\\n')\n",
    "print('hours_per_week')\n",
    "print(outlier_check(df1['hours_per_week'], 3))"
   ]
  },
  {
   "cell_type": "markdown",
   "metadata": {},
   "source": [
    "#### Results of the outlier checks\n",
    "\n",
    "Well that's not good! It seems that our lower limits are much further below our minimum so that means we should normalize our data since this means we have data inequality."
   ]
  },
  {
   "cell_type": "code",
   "execution_count": 30,
   "metadata": {},
   "outputs": [],
   "source": [
    "# This is done so we don't get infinite values when we log the data.\n",
    "\n",
    "df01 = df0.copy()\n",
    "\n",
    "df01['capital_gain'] = df01['capital_gain'].replace(to_replace = 0, value = 1)\n",
    "df01['capital_loss'] = df01['capital_loss'].replace(to_replace = 0, value = 1)"
   ]
  },
  {
   "cell_type": "code",
   "execution_count": 31,
   "metadata": {
    "scrolled": true
   },
   "outputs": [],
   "source": [
    "df_log_cg = np.log(df01.capital_gain)\n",
    "df_log_cl = np.log(df01.capital_loss)\n",
    "df_log_hpw = np.log(df01.hours_per_week)"
   ]
  },
  {
   "cell_type": "code",
   "execution_count": 32,
   "metadata": {
    "scrolled": false
   },
   "outputs": [
    {
     "name": "stdout",
     "output_type": "stream",
     "text": [
      "capital_gain\n",
      "Upper Limit: \n",
      "8.098640206342186\n",
      "Lower Limit: \n",
      "-6.629438907823515\n",
      "Max: \n",
      "11.512915464920228\n",
      "Min: \n",
      "0.0\n",
      "None\n",
      "\n",
      "--------------------------------------------------\n",
      "\n",
      "capital_loss\n",
      "Upper Limit: \n",
      "5.10366310071526\n",
      "Lower Limit: \n",
      "-4.403106723030464\n",
      "Max: \n",
      "8.37930948405285\n",
      "Min: \n",
      "0.0\n",
      "None\n",
      "\n",
      "--------------------------------------------------\n",
      "\n",
      "hours_per_week\n",
      "Upper Limit: \n",
      "4.866313439666777\n",
      "Lower Limit: \n",
      "2.40570152974267\n",
      "Max: \n",
      "4.59511985013459\n",
      "Min: \n",
      "0.0\n",
      "None\n"
     ]
    }
   ],
   "source": [
    "print('capital_gain')\n",
    "print(outlier_check(df_log_cg, 3))\n",
    "print('\\n' + '-' * 50 + '\\n')\n",
    "print('capital_loss')\n",
    "print(outlier_check(df_log_cl, 3))\n",
    "print('\\n' + '-' * 50 + '\\n')\n",
    "print('hours_per_week')\n",
    "print(outlier_check(df_log_hpw, 3))"
   ]
  },
  {
   "cell_type": "markdown",
   "metadata": {},
   "source": [
    "It seems that even if we were to normalize the data that there is still a serious inequality within the data. Let's check how many points in each column go beyond the 3rd standard deviation using the data that isn't logged."
   ]
  },
  {
   "cell_type": "code",
   "execution_count": 33,
   "metadata": {},
   "outputs": [
    {
     "name": "stdout",
     "output_type": "stream",
     "text": [
      "age               215\n",
      "work_class        215\n",
      "education         215\n",
      "education_num     215\n",
      "martial_status    215\n",
      "occupation        215\n",
      "relationship      215\n",
      "race              215\n",
      "sex               215\n",
      "capital_gain      215\n",
      "capital_loss      215\n",
      "hours_per_week    215\n",
      "native_country    215\n",
      "annual_salary     215\n",
      "dtype: int64\n",
      "\n",
      "\n",
      "age               1470\n",
      "work_class        1470\n",
      "education         1470\n",
      "education_num     1470\n",
      "martial_status    1470\n",
      "occupation        1470\n",
      "relationship      1470\n",
      "race              1470\n",
      "sex               1470\n",
      "capital_gain      1470\n",
      "capital_loss      1470\n",
      "hours_per_week    1470\n",
      "native_country    1470\n",
      "annual_salary     1470\n",
      "dtype: int64\n",
      "\n",
      "\n",
      "age               446\n",
      "work_class        446\n",
      "education         446\n",
      "education_num     446\n",
      "martial_status    446\n",
      "occupation        446\n",
      "relationship      446\n",
      "race              446\n",
      "sex               446\n",
      "capital_gain      446\n",
      "capital_loss      446\n",
      "hours_per_week    446\n",
      "native_country    446\n",
      "annual_salary     446\n",
      "dtype: int64\n"
     ]
    }
   ],
   "source": [
    "print(df0.loc[(df0.capital_gain >= 23233) | (df0.capital_gain <= -21078)].count())\n",
    "print('\\n')\n",
    "print(df0.loc[(df0.capital_loss >= 1296) | (df0.capital_loss <= -1121)].count())\n",
    "print('\\n')\n",
    "print(df0.loc[(df0.hours_per_week >= 77) | (df0.hours_per_week <= 3)].count())"
   ]
  },
  {
   "cell_type": "code",
   "execution_count": 34,
   "metadata": {},
   "outputs": [
    {
     "name": "stdout",
     "output_type": "stream",
     "text": [
      "age               116\n",
      "work_class        116\n",
      "education         116\n",
      "education_num     116\n",
      "martial_status    116\n",
      "occupation        116\n",
      "relationship      116\n",
      "race              116\n",
      "sex               116\n",
      "capital_gain      116\n",
      "capital_loss      116\n",
      "hours_per_week    116\n",
      "native_country    116\n",
      "annual_salary     116\n",
      "dtype: int64\n",
      "\n",
      "\n",
      "age               746\n",
      "work_class        746\n",
      "education         746\n",
      "education_num     746\n",
      "martial_status    746\n",
      "occupation        746\n",
      "relationship      746\n",
      "race              746\n",
      "sex               746\n",
      "capital_gain      746\n",
      "capital_loss      746\n",
      "hours_per_week    746\n",
      "native_country    746\n",
      "annual_salary     746\n",
      "dtype: int64\n",
      "\n",
      "\n",
      "age               244\n",
      "work_class        244\n",
      "education         244\n",
      "education_num     244\n",
      "martial_status    244\n",
      "occupation        244\n",
      "relationship      244\n",
      "race              244\n",
      "sex               244\n",
      "capital_gain      244\n",
      "capital_loss      244\n",
      "hours_per_week    244\n",
      "native_country    244\n",
      "annual_salary     244\n",
      "dtype: int64\n"
     ]
    }
   ],
   "source": [
    "print(df1.loc[(df1.capital_gain >= 23833) | (df1.capital_gain <= -21669)].count())\n",
    "print('\\n')\n",
    "print(df1.loc[(df1.capital_loss >= 1297) | (df1.capital_loss <= -1121)].count())\n",
    "print('\\n')\n",
    "print(df1.loc[(df1.hours_per_week >= 77) | (df1.hours_per_week <= 3)].count())"
   ]
  },
  {
   "cell_type": "markdown",
   "metadata": {},
   "source": [
    "Well it seems that capital_loss has the most outliers by a large margin with almost 5% of the entire dataset being beyond the third standard deviation while the other two barely make up 2% or less."
   ]
  },
  {
   "cell_type": "markdown",
   "metadata": {},
   "source": [
    "#### What to do with these outliers?\n",
    "\n",
    "Well we have a few options:\n",
    "\n",
    "    1. We could remove/change all outliers from 3rd standard deviation\n",
    "    2. We could see what our quesiton is to see if we even need to mess around with these columns\n",
    "    \n",
    "The answer that I ended up choosing is in post production. I know after finishing the project that removing the outliers will improve the data set so I will be doing that below for the sake of not having the project be even longer. "
   ]
  },
  {
   "cell_type": "markdown",
   "metadata": {},
   "source": [
    "#### Removing the Outliers"
   ]
  },
  {
   "cell_type": "code",
   "execution_count": 35,
   "metadata": {},
   "outputs": [],
   "source": [
    "rocg0 = df0.loc[(df0.capital_gain >= 1300) | (df0.capital_loss <= -1100)].index\n",
    "df0.drop(rocg0, inplace = True)\n",
    "rocl0 = df0.loc[(df0.capital_loss >= 1300) | (df0.capital_loss <= -1100)].index\n",
    "df0.drop(rocl0, inplace = True)\n",
    "rohpw0 = df0.loc[(df0.hours_per_week >= 77) | (df0.hours_per_week <= 3)].index\n",
    "df0.drop(rohpw0, inplace = True)"
   ]
  },
  {
   "cell_type": "code",
   "execution_count": 36,
   "metadata": {},
   "outputs": [],
   "source": [
    "rocg1 = df1.loc[(df1.capital_gain >= 23833) | (df1.capital_gain <= -21669)].index\n",
    "df1.drop(rocg1, inplace = True)\n",
    "rocl1 = df1.loc[(df1.capital_loss >= 1297) | (df1.capital_loss <= -1121)].index\n",
    "df1.drop(rocl1, inplace = True)\n",
    "rohpw1 = df1.loc[(df1.hours_per_week >= 77) | (df1.hours_per_week <= 3)].index\n",
    "df1.drop(rohpw1, inplace = True)"
   ]
  },
  {
   "cell_type": "code",
   "execution_count": 37,
   "metadata": {},
   "outputs": [
    {
     "name": "stdout",
     "output_type": "stream",
     "text": [
      "capital_gain\n",
      "Upper Limit: \n",
      "154.95878699256804\n",
      "Lower Limit: \n",
      "-149.36997799420539\n",
      "Max: \n",
      "1173\n",
      "Min: \n",
      "0\n",
      "None\n",
      "\n",
      "--------------------------------------------------\n",
      "\n",
      "capital_loss\n",
      "Upper Limit: \n",
      "102.39767324990615\n",
      "Lower Limit: \n",
      "-99.82965160827447\n",
      "Max: \n",
      "1258\n",
      "Min: \n",
      "0\n",
      "None\n",
      "\n",
      "--------------------------------------------------\n",
      "\n",
      "hours_per_week\n",
      "Upper Limit: \n",
      "73.11457064834062\n",
      "Lower Limit: \n",
      "6.008872079644\n",
      "Max: \n",
      "76\n",
      "Min: \n",
      "4\n",
      "None\n"
     ]
    }
   ],
   "source": [
    "print('capital_gain')\n",
    "print(outlier_check(df0['capital_gain'], 3))\n",
    "print('\\n' + '-' * 50 + '\\n')\n",
    "print('capital_loss')\n",
    "print(outlier_check(df0['capital_loss'], 3))\n",
    "print('\\n' + '-' * 50 + '\\n')\n",
    "print('hours_per_week')\n",
    "print(outlier_check(df0['hours_per_week'], 3))"
   ]
  },
  {
   "cell_type": "code",
   "execution_count": 38,
   "metadata": {},
   "outputs": [
    {
     "name": "stdout",
     "output_type": "stream",
     "text": [
      "capital_gain\n",
      "Upper Limit: \n",
      "7209.520004845399\n",
      "Lower Limit: \n",
      "-6144.057717100237\n",
      "Max: \n",
      "20051\n",
      "Min: \n",
      "0\n",
      "None\n",
      "\n",
      "--------------------------------------------------\n",
      "\n",
      "capital_loss\n",
      "Upper Limit: \n",
      "89.15466497325778\n",
      "Lower Limit: \n",
      "-87.3385533502487\n",
      "Max: \n",
      "1258\n",
      "Min: \n",
      "0\n",
      "None\n",
      "\n",
      "--------------------------------------------------\n",
      "\n",
      "hours_per_week\n",
      "Upper Limit: \n",
      "73.34967378903688\n",
      "Lower Limit: \n",
      "6.096028461851617\n",
      "Max: \n",
      "76\n",
      "Min: \n",
      "4\n",
      "None\n"
     ]
    }
   ],
   "source": [
    "print('capital_gain')\n",
    "print(outlier_check(df1['capital_gain'], 3))\n",
    "print('\\n' + '-' * 50 + '\\n')\n",
    "print('capital_loss')\n",
    "print(outlier_check(df1['capital_loss'], 3))\n",
    "print('\\n' + '-' * 50 + '\\n')\n",
    "print('hours_per_week')\n",
    "print(outlier_check(df1['hours_per_week'], 3))"
   ]
  },
  {
   "cell_type": "markdown",
   "metadata": {},
   "source": [
    "#### Results\n",
    "\n",
    "Wow these have gone down quite a bit now that we removed all of the outliers past the third standard deviation! While not perfect still they are definitely doing far better than they were previously! And now we'll use this data for the remainder of the project!"
   ]
  },
  {
   "cell_type": "markdown",
   "metadata": {},
   "source": [
    "### Scatter Matrix and Correlation Heatmaps"
   ]
  },
  {
   "cell_type": "markdown",
   "metadata": {},
   "source": [
    "Let's make a scatter matrix to see what we're looking at with the dat when we couple the numerical columns together."
   ]
  },
  {
   "cell_type": "code",
   "execution_count": 39,
   "metadata": {
    "scrolled": false
   },
   "outputs": [
    {
     "data": {
      "image/png": "[encoded data removed]",
      "text/plain": [
       "<Figure size 1080x1080 with 25 Axes>"
      ]
     },
     "metadata": {
      "needs_background": "light"
     },
     "output_type": "display_data"
    }
   ],
   "source": [
    "pd.plotting.scatter_matrix(df0, alpha=0.6, figsize=(15, 15))\n",
    "plt.show()"
   ]
  },
  {
   "cell_type": "markdown",
   "metadata": {},
   "source": [
    "This does very little for my ability to read each graph but it does give me an idea to checkk a correlation heatmap to get numbers put to each of these scatter plots."
   ]
  },
  {
   "cell_type": "code",
   "execution_count": 40,
   "metadata": {},
   "outputs": [
    {
     "data": {
      "image/png": "[encoded data removed]",
      "text/plain": [
       "<Figure size 720x720 with 2 Axes>"
      ]
     },
     "metadata": {
      "needs_background": "light"
     },
     "output_type": "display_data"
    }
   ],
   "source": [
    "corr = df0.corr()\n",
    "plt.figure(figsize=(10, 10))\n",
    "sns.heatmap(corr, annot=True, fmt='0.1g', cmap=sns.color_palette('Blues'))\n",
    "plt.show()"
   ]
  },
  {
   "cell_type": "markdown",
   "metadata": {},
   "source": [
    "The very stark answer we have here is that aside from the ones that are 1 to 1 ratios (which are the data compared to themself) there is virtually no correlation between any of these columns. \n",
    "\n",
    "## Visualize the graphs\n",
    "\n",
    "Since we have only seen the scatter matrix so far lets look at the data when put to a distplot."
   ]
  },
  {
   "cell_type": "code",
   "execution_count": 41,
   "metadata": {
    "scrolled": true
   },
   "outputs": [
    {
     "name": "stdout",
     "output_type": "stream",
     "text": [
      "<class 'pandas.core.frame.DataFrame'>\n",
      "Int64Index: 28094 entries, 1 to 32559\n",
      "Data columns (total 14 columns):\n",
      "age               28094 non-null int64\n",
      "work_class        28094 non-null object\n",
      "education         28094 non-null object\n",
      "education_num     28094 non-null int64\n",
      "martial_status    28094 non-null object\n",
      "occupation        28094 non-null object\n",
      "relationship      28094 non-null object\n",
      "race              28094 non-null object\n",
      "sex               28094 non-null object\n",
      "capital_gain      28094 non-null int64\n",
      "capital_loss      28094 non-null int64\n",
      "hours_per_week    28094 non-null int64\n",
      "native_country    28094 non-null object\n",
      "annual_salary     28094 non-null object\n",
      "dtypes: int64(5), object(9)\n",
      "memory usage: 3.2+ MB\n"
     ]
    }
   ],
   "source": [
    "df0.info()"
   ]
  },
  {
   "cell_type": "code",
   "execution_count": 42,
   "metadata": {},
   "outputs": [],
   "source": [
    "df_mapper = df0.copy()"
   ]
  },
  {
   "cell_type": "code",
   "execution_count": 43,
   "metadata": {
    "scrolled": true
   },
   "outputs": [],
   "source": [
    "df_mapper.drop(['work_class', 'education', 'martial_status', 'occupation', 'relationship', 'race', 'sex', \\\n",
    "                'native_country', 'annual_salary'], axis=1, inplace=True)\n"
   ]
  },
  {
   "cell_type": "code",
   "execution_count": 44,
   "metadata": {},
   "outputs": [
    {
     "data": {
      "text/plain": [
       "Index(['age', 'education_num', 'capital_gain', 'capital_loss',\n",
       "       'hours_per_week'],\n",
       "      dtype='object')"
      ]
     },
     "execution_count": 44,
     "metadata": {},
     "output_type": "execute_result"
    }
   ],
   "source": [
    "df_mapper.columns"
   ]
  },
  {
   "cell_type": "code",
   "execution_count": 45,
   "metadata": {},
   "outputs": [],
   "source": [
    "df_mapper_headers = ['age', 'education_num', 'capital_gain', 'capital_loss', 'hours_per_week']"
   ]
  },
  {
   "cell_type": "markdown",
   "metadata": {},
   "source": [
    "#### Non-logged Visualizations"
   ]
  },
  {
   "cell_type": "code",
   "execution_count": 46,
   "metadata": {},
   "outputs": [
    {
     "data": {
      "image/png": "[encoded data removed]",
      "text/plain": [
       "<Figure size 432x288 with 1 Axes>"
      ]
     },
     "metadata": {
      "needs_background": "light"
     },
     "output_type": "display_data"
    },
    {
     "data": {
      "image/png": "[encoded data removed]",
      "text/plain": [
       "<Figure size 432x288 with 1 Axes>"
      ]
     },
     "metadata": {
      "needs_background": "light"
     },
     "output_type": "display_data"
    },
    {
     "data": {
      "image/png": "[encoded data removed]",
      "text/plain": [
       "<Figure size 432x288 with 1 Axes>"
      ]
     },
     "metadata": {
      "needs_background": "light"
     },
     "output_type": "display_data"
    },
    {
     "data": {
      "image/png": "[encoded data removed]",
      "text/plain": [
       "<Figure size 432x288 with 1 Axes>"
      ]
     },
     "metadata": {
      "needs_background": "light"
     },
     "output_type": "display_data"
    },
    {
     "data": {
      "image/png": "[encoded data removed]",
      "text/plain": [
       "<Figure size 432x288 with 1 Axes>"
      ]
     },
     "metadata": {
      "needs_background": "light"
     },
     "output_type": "display_data"
    }
   ],
   "source": [
    "for i, col in enumerate(df_mapper.columns):\n",
    "    plt.figure(i)\n",
    "    a = sns.distplot(df_mapper[col])\n",
    "    a.set_title(df_mapper_headers[i])\n",
    "    a.set_ylabel('Distribution')\n",
    "    a.set_xlabel('X variable')"
   ]
  },
  {
   "cell_type": "markdown",
   "metadata": {},
   "source": [
    "Those look pretty rough, for the most part it seems that a majority of the numerical columns have a stark 'answer' that everyone has ith a few people having anything else."
   ]
  },
  {
   "cell_type": "markdown",
   "metadata": {},
   "source": [
    "### Visualization Results and final remarks\n",
    "\n",
    "Well the log transformations did help a few with their overall look when I tested those but the data even with that the data is heavily skewed and not very equally distributed even after removing any outlier past the third standard deviation. \n",
    "\n",
    "For the most part this data is rough and very real but we're going to try and focus on what we can get from this information and below I'm going to bring up a few questions that I have thought of."
   ]
  },
  {
   "cell_type": "markdown",
   "metadata": {},
   "source": [
    "### Potential Questions\n",
    "\n",
    "There are a few options that we have for positive questions that we can form with machine learning techniques and classification algorithms from this dataset.\n",
    "\n",
    "    1. Logistic Regression on annual salary or sex.\n",
    "        * Either would be a solid option to predict things with from an academic standpoint\n",
    "    2. Decision Trees on race, sex, relationship, occupation, etc\n",
    "        * These ccould be fun but it would be very time consuming\n",
    "    3. Random Forst of the same topics in option 2.\n",
    "        * This would be a much more complex and even slower option but would be interesting to do."
   ]
  },
  {
   "cell_type": "markdown",
   "metadata": {},
   "source": [
    "## Question\n",
    "\n",
    "I think that the most attainable information that would be helpful to my potential employer would be the first option with a logistic regression model checking their annual salary. \n",
    "\n",
    "The reason I think this model would be the one that would help the most is that my would-be employer is the government and they're wanting to check the people within the census on what tax bracket they should be in (however for the simplicity of the columns it would be 50K+ or below 50K). And we'll check this through the implementation of machine learning algorithms on all other numeric columns."
   ]
  },
  {
   "cell_type": "markdown",
   "metadata": {},
   "source": [
    "### How to go about this\n",
    "\n",
    "First thing we're going to do is create a bunch of dummy variables from columns that we currently have that can be easily broken down into dummies. We'll avoid columns that already are redundant like education_num and just use education instead."
   ]
  },
  {
   "cell_type": "code",
   "execution_count": 47,
   "metadata": {},
   "outputs": [],
   "source": [
    "# We're going to dumify these variables\n",
    "\n",
    "x_feats = ['work_class', 'education', 'martial_status', 'occupation', 'relationship', 'race', 'sex', 'native_country']\n",
    "\n",
    "\n",
    "# These ones we are changing to integers, 1 means over 50K, 0 means under 50K\n",
    "\n",
    "df0['annual_salary'] = df0['annual_salary'].replace(to_replace = '>50K', value = '1')\n",
    "df0['annual_salary'] = df0['annual_salary'].replace(to_replace = '<=50K', value = '0')\n",
    "\n",
    "df1['annual_salary'] = df1['annual_salary'].replace(to_replace = '>50K.', value = '1')\n",
    "df1['annual_salary'] = df1['annual_salary'].replace(to_replace = '<=50K.', value = '0')"
   ]
  },
  {
   "cell_type": "code",
   "execution_count": 48,
   "metadata": {
    "scrolled": true
   },
   "outputs": [],
   "source": [
    "# This will change the column type to integer\n",
    "\n",
    "df0.annual_salary = df0['annual_salary'].astype(np.int64)\n",
    "df1.annual_salary = df1['annual_salary'].astype(np.int64)"
   ]
  },
  {
   "cell_type": "code",
   "execution_count": 49,
   "metadata": {},
   "outputs": [
    {
     "data": {
      "text/html": [
       "<div>\n",
       "<style scoped>\n",
       "    .dataframe tbody tr th:only-of-type {\n",
       "        vertical-align: middle;\n",
       "    }\n",
       "\n",
       "    .dataframe tbody tr th {\n",
       "        vertical-align: top;\n",
       "    }\n",
       "\n",
       "    .dataframe thead th {\n",
       "        text-align: right;\n",
       "    }\n",
       "</style>\n",
       "<table border=\"1\" class=\"dataframe\">\n",
       "  <thead>\n",
       "    <tr style=\"text-align: right;\">\n",
       "      <th></th>\n",
       "      <th>work_class_Federal-gov</th>\n",
       "      <th>work_class_Local-gov</th>\n",
       "      <th>work_class_Never-worked</th>\n",
       "      <th>work_class_Private</th>\n",
       "      <th>work_class_Self-emp-inc</th>\n",
       "      <th>work_class_Self-emp-not-inc</th>\n",
       "      <th>work_class_State-gov</th>\n",
       "      <th>work_class_Unknown</th>\n",
       "      <th>work_class_Without-pay</th>\n",
       "      <th>education_10th</th>\n",
       "      <th>...</th>\n",
       "      <th>native_country_Portugal</th>\n",
       "      <th>native_country_Puerto-Rico</th>\n",
       "      <th>native_country_Scotland</th>\n",
       "      <th>native_country_South</th>\n",
       "      <th>native_country_Taiwan</th>\n",
       "      <th>native_country_Thailand</th>\n",
       "      <th>native_country_Trinadad&amp;Tobago</th>\n",
       "      <th>native_country_United-States</th>\n",
       "      <th>native_country_Vietnam</th>\n",
       "      <th>native_country_Yugoslavia</th>\n",
       "    </tr>\n",
       "  </thead>\n",
       "  <tbody>\n",
       "    <tr>\n",
       "      <th>1</th>\n",
       "      <td>0</td>\n",
       "      <td>0</td>\n",
       "      <td>0</td>\n",
       "      <td>0</td>\n",
       "      <td>0</td>\n",
       "      <td>1</td>\n",
       "      <td>0</td>\n",
       "      <td>0</td>\n",
       "      <td>0</td>\n",
       "      <td>0</td>\n",
       "      <td>...</td>\n",
       "      <td>0</td>\n",
       "      <td>0</td>\n",
       "      <td>0</td>\n",
       "      <td>0</td>\n",
       "      <td>0</td>\n",
       "      <td>0</td>\n",
       "      <td>0</td>\n",
       "      <td>1</td>\n",
       "      <td>0</td>\n",
       "      <td>0</td>\n",
       "    </tr>\n",
       "    <tr>\n",
       "      <th>2</th>\n",
       "      <td>0</td>\n",
       "      <td>0</td>\n",
       "      <td>0</td>\n",
       "      <td>1</td>\n",
       "      <td>0</td>\n",
       "      <td>0</td>\n",
       "      <td>0</td>\n",
       "      <td>0</td>\n",
       "      <td>0</td>\n",
       "      <td>0</td>\n",
       "      <td>...</td>\n",
       "      <td>0</td>\n",
       "      <td>0</td>\n",
       "      <td>0</td>\n",
       "      <td>0</td>\n",
       "      <td>0</td>\n",
       "      <td>0</td>\n",
       "      <td>0</td>\n",
       "      <td>1</td>\n",
       "      <td>0</td>\n",
       "      <td>0</td>\n",
       "    </tr>\n",
       "    <tr>\n",
       "      <th>3</th>\n",
       "      <td>0</td>\n",
       "      <td>0</td>\n",
       "      <td>0</td>\n",
       "      <td>1</td>\n",
       "      <td>0</td>\n",
       "      <td>0</td>\n",
       "      <td>0</td>\n",
       "      <td>0</td>\n",
       "      <td>0</td>\n",
       "      <td>0</td>\n",
       "      <td>...</td>\n",
       "      <td>0</td>\n",
       "      <td>0</td>\n",
       "      <td>0</td>\n",
       "      <td>0</td>\n",
       "      <td>0</td>\n",
       "      <td>0</td>\n",
       "      <td>0</td>\n",
       "      <td>1</td>\n",
       "      <td>0</td>\n",
       "      <td>0</td>\n",
       "    </tr>\n",
       "    <tr>\n",
       "      <th>4</th>\n",
       "      <td>0</td>\n",
       "      <td>0</td>\n",
       "      <td>0</td>\n",
       "      <td>1</td>\n",
       "      <td>0</td>\n",
       "      <td>0</td>\n",
       "      <td>0</td>\n",
       "      <td>0</td>\n",
       "      <td>0</td>\n",
       "      <td>0</td>\n",
       "      <td>...</td>\n",
       "      <td>0</td>\n",
       "      <td>0</td>\n",
       "      <td>0</td>\n",
       "      <td>0</td>\n",
       "      <td>0</td>\n",
       "      <td>0</td>\n",
       "      <td>0</td>\n",
       "      <td>0</td>\n",
       "      <td>0</td>\n",
       "      <td>0</td>\n",
       "    </tr>\n",
       "    <tr>\n",
       "      <th>5</th>\n",
       "      <td>0</td>\n",
       "      <td>0</td>\n",
       "      <td>0</td>\n",
       "      <td>1</td>\n",
       "      <td>0</td>\n",
       "      <td>0</td>\n",
       "      <td>0</td>\n",
       "      <td>0</td>\n",
       "      <td>0</td>\n",
       "      <td>0</td>\n",
       "      <td>...</td>\n",
       "      <td>0</td>\n",
       "      <td>0</td>\n",
       "      <td>0</td>\n",
       "      <td>0</td>\n",
       "      <td>0</td>\n",
       "      <td>0</td>\n",
       "      <td>0</td>\n",
       "      <td>1</td>\n",
       "      <td>0</td>\n",
       "      <td>0</td>\n",
       "    </tr>\n",
       "  </tbody>\n",
       "</table>\n",
       "<p>5 rows × 101 columns</p>\n",
       "</div>"
      ],
      "text/plain": [
       "   work_class_Federal-gov  work_class_Local-gov  work_class_Never-worked  \\\n",
       "1                       0                     0                        0   \n",
       "2                       0                     0                        0   \n",
       "3                       0                     0                        0   \n",
       "4                       0                     0                        0   \n",
       "5                       0                     0                        0   \n",
       "\n",
       "   work_class_Private  work_class_Self-emp-inc  work_class_Self-emp-not-inc  \\\n",
       "1                   0                        0                            1   \n",
       "2                   1                        0                            0   \n",
       "3                   1                        0                            0   \n",
       "4                   1                        0                            0   \n",
       "5                   1                        0                            0   \n",
       "\n",
       "   work_class_State-gov  work_class_Unknown  work_class_Without-pay  \\\n",
       "1                     0                   0                       0   \n",
       "2                     0                   0                       0   \n",
       "3                     0                   0                       0   \n",
       "4                     0                   0                       0   \n",
       "5                     0                   0                       0   \n",
       "\n",
       "   education_10th  ...  native_country_Portugal  native_country_Puerto-Rico  \\\n",
       "1               0  ...                        0                           0   \n",
       "2               0  ...                        0                           0   \n",
       "3               0  ...                        0                           0   \n",
       "4               0  ...                        0                           0   \n",
       "5               0  ...                        0                           0   \n",
       "\n",
       "   native_country_Scotland  native_country_South  native_country_Taiwan  \\\n",
       "1                        0                     0                      0   \n",
       "2                        0                     0                      0   \n",
       "3                        0                     0                      0   \n",
       "4                        0                     0                      0   \n",
       "5                        0                     0                      0   \n",
       "\n",
       "   native_country_Thailand  native_country_Trinadad&Tobago  \\\n",
       "1                        0                               0   \n",
       "2                        0                               0   \n",
       "3                        0                               0   \n",
       "4                        0                               0   \n",
       "5                        0                               0   \n",
       "\n",
       "   native_country_United-States  native_country_Vietnam  \\\n",
       "1                             1                       0   \n",
       "2                             1                       0   \n",
       "3                             1                       0   \n",
       "4                             0                       0   \n",
       "5                             1                       0   \n",
       "\n",
       "   native_country_Yugoslavia  \n",
       "1                          0  \n",
       "2                          0  \n",
       "3                          0  \n",
       "4                          0  \n",
       "5                          0  \n",
       "\n",
       "[5 rows x 101 columns]"
      ]
     },
     "execution_count": 49,
     "metadata": {},
     "output_type": "execute_result"
    }
   ],
   "source": [
    "# This is where we create dummy columns of 0 and 1's for each variable within those columns listed.\n",
    "\n",
    "X = pd.get_dummies(df0[x_feats])\n",
    "y = df0.annual_salary\n",
    "X.head()"
   ]
  },
  {
   "cell_type": "code",
   "execution_count": 50,
   "metadata": {},
   "outputs": [
    {
     "data": {
      "text/html": [
       "<div>\n",
       "<style scoped>\n",
       "    .dataframe tbody tr th:only-of-type {\n",
       "        vertical-align: middle;\n",
       "    }\n",
       "\n",
       "    .dataframe tbody tr th {\n",
       "        vertical-align: top;\n",
       "    }\n",
       "\n",
       "    .dataframe thead th {\n",
       "        text-align: right;\n",
       "    }\n",
       "</style>\n",
       "<table border=\"1\" class=\"dataframe\">\n",
       "  <thead>\n",
       "    <tr style=\"text-align: right;\">\n",
       "      <th></th>\n",
       "      <th>work_class_Federal-gov</th>\n",
       "      <th>work_class_Local-gov</th>\n",
       "      <th>work_class_Never-worked</th>\n",
       "      <th>work_class_Private</th>\n",
       "      <th>work_class_Self-emp-inc</th>\n",
       "      <th>work_class_Self-emp-not-inc</th>\n",
       "      <th>work_class_State-gov</th>\n",
       "      <th>work_class_Unknown</th>\n",
       "      <th>work_class_Without-pay</th>\n",
       "      <th>education_10th</th>\n",
       "      <th>...</th>\n",
       "      <th>native_country_Portugal</th>\n",
       "      <th>native_country_Puerto-Rico</th>\n",
       "      <th>native_country_Scotland</th>\n",
       "      <th>native_country_South</th>\n",
       "      <th>native_country_Taiwan</th>\n",
       "      <th>native_country_Thailand</th>\n",
       "      <th>native_country_Trinadad&amp;Tobago</th>\n",
       "      <th>native_country_United-States</th>\n",
       "      <th>native_country_Vietnam</th>\n",
       "      <th>native_country_Yugoslavia</th>\n",
       "    </tr>\n",
       "  </thead>\n",
       "  <tbody>\n",
       "    <tr>\n",
       "      <th>1</th>\n",
       "      <td>0.0</td>\n",
       "      <td>0.0</td>\n",
       "      <td>0.0</td>\n",
       "      <td>0.0</td>\n",
       "      <td>0.0</td>\n",
       "      <td>1.0</td>\n",
       "      <td>0.0</td>\n",
       "      <td>0.0</td>\n",
       "      <td>0.0</td>\n",
       "      <td>0.0</td>\n",
       "      <td>...</td>\n",
       "      <td>0.0</td>\n",
       "      <td>0.0</td>\n",
       "      <td>0.0</td>\n",
       "      <td>0.0</td>\n",
       "      <td>0.0</td>\n",
       "      <td>0.0</td>\n",
       "      <td>0.0</td>\n",
       "      <td>1.0</td>\n",
       "      <td>0.0</td>\n",
       "      <td>0.0</td>\n",
       "    </tr>\n",
       "    <tr>\n",
       "      <th>2</th>\n",
       "      <td>0.0</td>\n",
       "      <td>0.0</td>\n",
       "      <td>0.0</td>\n",
       "      <td>1.0</td>\n",
       "      <td>0.0</td>\n",
       "      <td>0.0</td>\n",
       "      <td>0.0</td>\n",
       "      <td>0.0</td>\n",
       "      <td>0.0</td>\n",
       "      <td>0.0</td>\n",
       "      <td>...</td>\n",
       "      <td>0.0</td>\n",
       "      <td>0.0</td>\n",
       "      <td>0.0</td>\n",
       "      <td>0.0</td>\n",
       "      <td>0.0</td>\n",
       "      <td>0.0</td>\n",
       "      <td>0.0</td>\n",
       "      <td>1.0</td>\n",
       "      <td>0.0</td>\n",
       "      <td>0.0</td>\n",
       "    </tr>\n",
       "    <tr>\n",
       "      <th>3</th>\n",
       "      <td>0.0</td>\n",
       "      <td>0.0</td>\n",
       "      <td>0.0</td>\n",
       "      <td>1.0</td>\n",
       "      <td>0.0</td>\n",
       "      <td>0.0</td>\n",
       "      <td>0.0</td>\n",
       "      <td>0.0</td>\n",
       "      <td>0.0</td>\n",
       "      <td>0.0</td>\n",
       "      <td>...</td>\n",
       "      <td>0.0</td>\n",
       "      <td>0.0</td>\n",
       "      <td>0.0</td>\n",
       "      <td>0.0</td>\n",
       "      <td>0.0</td>\n",
       "      <td>0.0</td>\n",
       "      <td>0.0</td>\n",
       "      <td>1.0</td>\n",
       "      <td>0.0</td>\n",
       "      <td>0.0</td>\n",
       "    </tr>\n",
       "    <tr>\n",
       "      <th>4</th>\n",
       "      <td>0.0</td>\n",
       "      <td>0.0</td>\n",
       "      <td>0.0</td>\n",
       "      <td>1.0</td>\n",
       "      <td>0.0</td>\n",
       "      <td>0.0</td>\n",
       "      <td>0.0</td>\n",
       "      <td>0.0</td>\n",
       "      <td>0.0</td>\n",
       "      <td>0.0</td>\n",
       "      <td>...</td>\n",
       "      <td>0.0</td>\n",
       "      <td>0.0</td>\n",
       "      <td>0.0</td>\n",
       "      <td>0.0</td>\n",
       "      <td>0.0</td>\n",
       "      <td>0.0</td>\n",
       "      <td>0.0</td>\n",
       "      <td>0.0</td>\n",
       "      <td>0.0</td>\n",
       "      <td>0.0</td>\n",
       "    </tr>\n",
       "    <tr>\n",
       "      <th>5</th>\n",
       "      <td>0.0</td>\n",
       "      <td>0.0</td>\n",
       "      <td>0.0</td>\n",
       "      <td>1.0</td>\n",
       "      <td>0.0</td>\n",
       "      <td>0.0</td>\n",
       "      <td>0.0</td>\n",
       "      <td>0.0</td>\n",
       "      <td>0.0</td>\n",
       "      <td>0.0</td>\n",
       "      <td>...</td>\n",
       "      <td>0.0</td>\n",
       "      <td>0.0</td>\n",
       "      <td>0.0</td>\n",
       "      <td>0.0</td>\n",
       "      <td>0.0</td>\n",
       "      <td>0.0</td>\n",
       "      <td>0.0</td>\n",
       "      <td>1.0</td>\n",
       "      <td>0.0</td>\n",
       "      <td>0.0</td>\n",
       "    </tr>\n",
       "  </tbody>\n",
       "</table>\n",
       "<p>5 rows × 101 columns</p>\n",
       "</div>"
      ],
      "text/plain": [
       "   work_class_Federal-gov  work_class_Local-gov  work_class_Never-worked  \\\n",
       "1                     0.0                   0.0                      0.0   \n",
       "2                     0.0                   0.0                      0.0   \n",
       "3                     0.0                   0.0                      0.0   \n",
       "4                     0.0                   0.0                      0.0   \n",
       "5                     0.0                   0.0                      0.0   \n",
       "\n",
       "   work_class_Private  work_class_Self-emp-inc  work_class_Self-emp-not-inc  \\\n",
       "1                 0.0                      0.0                          1.0   \n",
       "2                 1.0                      0.0                          0.0   \n",
       "3                 1.0                      0.0                          0.0   \n",
       "4                 1.0                      0.0                          0.0   \n",
       "5                 1.0                      0.0                          0.0   \n",
       "\n",
       "   work_class_State-gov  work_class_Unknown  work_class_Without-pay  \\\n",
       "1                   0.0                 0.0                     0.0   \n",
       "2                   0.0                 0.0                     0.0   \n",
       "3                   0.0                 0.0                     0.0   \n",
       "4                   0.0                 0.0                     0.0   \n",
       "5                   0.0                 0.0                     0.0   \n",
       "\n",
       "   education_10th  ...  native_country_Portugal  native_country_Puerto-Rico  \\\n",
       "1             0.0  ...                      0.0                         0.0   \n",
       "2             0.0  ...                      0.0                         0.0   \n",
       "3             0.0  ...                      0.0                         0.0   \n",
       "4             0.0  ...                      0.0                         0.0   \n",
       "5             0.0  ...                      0.0                         0.0   \n",
       "\n",
       "   native_country_Scotland  native_country_South  native_country_Taiwan  \\\n",
       "1                      0.0                   0.0                    0.0   \n",
       "2                      0.0                   0.0                    0.0   \n",
       "3                      0.0                   0.0                    0.0   \n",
       "4                      0.0                   0.0                    0.0   \n",
       "5                      0.0                   0.0                    0.0   \n",
       "\n",
       "   native_country_Thailand  native_country_Trinadad&Tobago  \\\n",
       "1                      0.0                             0.0   \n",
       "2                      0.0                             0.0   \n",
       "3                      0.0                             0.0   \n",
       "4                      0.0                             0.0   \n",
       "5                      0.0                             0.0   \n",
       "\n",
       "   native_country_United-States  native_country_Vietnam  \\\n",
       "1                           1.0                     0.0   \n",
       "2                           1.0                     0.0   \n",
       "3                           1.0                     0.0   \n",
       "4                           0.0                     0.0   \n",
       "5                           1.0                     0.0   \n",
       "\n",
       "   native_country_Yugoslavia  \n",
       "1                        0.0  \n",
       "2                        0.0  \n",
       "3                        0.0  \n",
       "4                        0.0  \n",
       "5                        0.0  \n",
       "\n",
       "[5 rows x 101 columns]"
      ]
     },
     "execution_count": 50,
     "metadata": {},
     "output_type": "execute_result"
    }
   ],
   "source": [
    "for col in X.columns:\n",
    "    X[col] = (X[col] - min(X[col])) / (max(X[col]) - min(X[col]))\n",
    "    \n",
    "X.head()"
   ]
  },
  {
   "cell_type": "code",
   "execution_count": 51,
   "metadata": {},
   "outputs": [],
   "source": [
    "X_train, X_test, y_train, y_test = train_test_split(X, y)"
   ]
  },
  {
   "cell_type": "code",
   "execution_count": 52,
   "metadata": {},
   "outputs": [
    {
     "name": "stderr",
     "output_type": "stream",
     "text": [
      "C:\\Users\\Atlas\\.conda\\envs\\New\\lib\\site-packages\\sklearn\\linear_model\\logistic.py:432: FutureWarning: Default solver will be changed to 'lbfgs' in 0.22. Specify a solver to silence this warning.\n",
      "  FutureWarning)\n"
     ]
    },
    {
     "data": {
      "text/plain": [
       "LogisticRegression(C=1000000000000.0, class_weight=None, dual=False,\n",
       "                   fit_intercept=False, intercept_scaling=1, l1_ratio=None,\n",
       "                   max_iter=100, multi_class='warn', n_jobs=None, penalty='l2',\n",
       "                   random_state=None, solver='warn', tol=0.0001, verbose=0,\n",
       "                   warm_start=False)"
      ]
     },
     "execution_count": 52,
     "metadata": {},
     "output_type": "execute_result"
    }
   ],
   "source": [
    "logreg = LogisticRegression(fit_intercept = False, C = 1e12)\n",
    "model_log = logreg.fit(X_train, y_train)\n",
    "model_log"
   ]
  },
  {
   "cell_type": "code",
   "execution_count": 53,
   "metadata": {},
   "outputs": [],
   "source": [
    "y_hat_test = logreg.predict(X_test)\n",
    "y_hat_train = logreg.predict(X_train)"
   ]
  },
  {
   "cell_type": "code",
   "execution_count": 54,
   "metadata": {
    "scrolled": true
   },
   "outputs": [
    {
     "name": "stdout",
     "output_type": "stream",
     "text": [
      "0    17970\n",
      "1     3100\n",
      "Name: annual_salary, dtype: int64\n",
      "0    0.852871\n",
      "1    0.147129\n",
      "Name: annual_salary, dtype: float64\n"
     ]
    }
   ],
   "source": [
    "residuals = np.abs(y_train - y_hat_train)\n",
    "print(pd.Series(residuals).value_counts())\n",
    "print(pd.Series(residuals).value_counts(normalize=True))"
   ]
  },
  {
   "cell_type": "code",
   "execution_count": 55,
   "metadata": {},
   "outputs": [
    {
     "name": "stdout",
     "output_type": "stream",
     "text": [
      " 0    6035\n",
      " 1     670\n",
      "-1     319\n",
      "Name: annual_salary, dtype: int64\n",
      " 0    0.859197\n",
      " 1    0.095387\n",
      "-1    0.045416\n",
      "Name: annual_salary, dtype: float64\n"
     ]
    }
   ],
   "source": [
    "#We could subtract the two columns. If values or equal, difference will be zero. Then count number of zeros.\n",
    "residuals = y_test - y_hat_test\n",
    "print(pd.Series(residuals).value_counts())\n",
    "print(pd.Series(residuals).value_counts(normalize=True))"
   ]
  },
  {
   "cell_type": "markdown",
   "metadata": {},
   "source": [
    "Initially we had a train set with 85% accuracy and the test set accuracy is 85%.\n",
    "\n",
    "This is very good but we can do better if we optimize it. But before we do that let's try and figure out what we want to optimize.\n",
    "\n",
    "### Confusion Matrix\n",
    "\n",
    "We should figure out how many our model is getting right vs. how many our model is predicting to be wrong. We need to sort out if we want precision, recall, accuracy, or F1. \n",
    "\n",
    "And we'll go over those below."
   ]
  },
  {
   "cell_type": "code",
   "execution_count": 56,
   "metadata": {},
   "outputs": [
    {
     "name": "stdout",
     "output_type": "stream",
     "text": [
      "Confusion Matrix:\n",
      " [[5417  670]\n",
      " [ 319  618]]\n"
     ]
    }
   ],
   "source": [
    "cnf_matrix = confusion_matrix(y_hat_test, y_test)\n",
    "print('Confusion Matrix:\\n',cnf_matrix)"
   ]
  },
  {
   "cell_type": "code",
   "execution_count": 57,
   "metadata": {},
   "outputs": [
    {
     "data": {
      "image/png": "[encoded data removed]",
      "text/plain": [
       "<Figure size 936x576 with 2 Axes>"
      ]
     },
     "metadata": {
      "needs_background": "light"
     },
     "output_type": "display_data"
    }
   ],
   "source": [
    "plt.figure(figsize=(13, 8))\n",
    "sns.heatmap(cnf_matrix, annot=True, cmap=sns.color_palette('Greys'), fmt='1g')\n",
    "plt.xlabel(\"Prediction Label\")\n",
    "plt.ylabel(\"True Label\")\n",
    "plt.show()"
   ]
  },
  {
   "cell_type": "markdown",
   "metadata": {},
   "source": [
    "### Review of a Confusion Matrix and the calssification evaluation metrics\n",
    "\n",
    "### [TN, FP]\n",
    "### [FN, TP]"
   ]
  },
  {
   "cell_type": "markdown",
   "metadata": {},
   "source": [
    "Precision = # of TP / # of Pred Pos\n",
    "\n",
    "Recall = # of TP / # of Actual Pos\n",
    "\n",
    "Accuracy =  of TP + TN / Total Observations\n",
    "\n",
    "F1 = 2 x (Precision * Recall) / (Precision + Recall)"
   ]
  },
  {
   "cell_type": "markdown",
   "metadata": {},
   "source": [
    "Since our evaluation of data is on predicting how many people make over 50K (Pos) or under $50K (Neg) let's review the matrix step by step:\n",
    "\n",
    "TP = This tells us the number of people who make <b>over</b> 50K that we got right.\n",
    "\n",
    "FN = This tells us the number of people who we thought made <b>over</b> 50K that we got wrong.\n",
    "\n",
    "FP = This tells us the number of people who we thought made <b>under</b> 50K we got wrong.\n",
    "\n",
    "TN = This tells us the number of people who make <b>under</b> 50K that we got right."
   ]
  },
  {
   "cell_type": "markdown",
   "metadata": {},
   "source": [
    "Pre-outlier cleaning: \n",
    "\n",
    "    Precision: 1024 / 1968 = .52\n",
    "\n",
    "    Recall: 1024 / 1477 = .69\n",
    "\n",
    "    Accuracy: 6744 / 8141 = .82\n",
    "\n",
    "    F1: 2 x (.52 * .69) / (.52 + .69) = 2 x (.3588 / 1.21) = .593\n",
    "\n",
    "Post-outlier cleaning:\n",
    "    \n",
    "    Precision: 618 / (618 + 620) = .48\n",
    "    \n",
    "    Recall: 618 / (618 + 319) = .66\n",
    "    \n",
    "    Accuracy: 6035 / 7024 = .86\n",
    "    \n",
    "    F1 = 2 x (.48 * .69) / (.48 + .69) = 2 x (.3312 / 1.17) = .566\n"
   ]
  },
  {
   "cell_type": "markdown",
   "metadata": {},
   "source": [
    "### Focus of the Question\n",
    "\n",
    "**Do we focus precision?**\n",
    "\n",
    "Well how accurate do we need to be in a census? Does it cost us more to have False Positives? \n",
    "\n",
    "Being positive means we mark you as making over 50K so it would not be ideal to falsely classify someone who is below their means into a tax bracket they should not be a part of. \n",
    "\n",
    "**Do we focus recall?**\n",
    "\n",
    "Do we care if we misclassify some who make over 50K as under 50K?\n",
    "\n",
    "It would be overall less tax money in the system but they would still have the means to pay those unlike people who are misclassified into a higher bracket.\n",
    "\n",
    "**What about F1?**\n",
    "\n",
    "Well F1 is the mix of the two where we seek a balance of precision and recall.\n",
    "\n",
    "It would not be a bad idea to mitigate both lost money from FN and over taxing FP, so we'll be obtaining this score regardless of our option to see what it shows up as.\n",
    "\n",
    "#### What I think is best\n",
    "\n",
    "I think we should focus on precision and F1 over recall. The reason being that misclassifying those who cannot pay a higher bracket just ruins lives and can lead to potential lawsuits whereas the opposite with recall is more of a typo on our behalf and can be rectified with further testing. \n",
    "\n",
    "#### Results of cleaning out Outliers\n",
    "\n",
    "Well we seemed to have had a blanekt loss on all metrics aside from accuracy when dropping outliers and that is quite the surprise. I would have thought that dropping such skewed information such as the third standard deviation onward data would actually fix our project more than hurt it but then I considered why this happened to be the case. \n",
    "\n",
    "Our original metrics were skewed because we had so many outliers to begin with. So our data is more true to what the predictions of the lay person would be despite losing to our original data set. "
   ]
  },
  {
   "cell_type": "markdown",
   "metadata": {},
   "source": [
    "## Model Creation"
   ]
  },
  {
   "cell_type": "code",
   "execution_count": 58,
   "metadata": {},
   "outputs": [],
   "source": [
    "params = {\"penalty\": ['l1', 'l2'],\n",
    "          'tol': [0.001, 0.0001, 0.00001],\n",
    "          'C': [1, 0.1, 0.01],\n",
    "          'max_iter': [100, 500, 1000],\n",
    "          'n_jobs': [-1]}"
   ]
  },
  {
   "cell_type": "code",
   "execution_count": 59,
   "metadata": {},
   "outputs": [],
   "source": [
    "logreg = LogisticRegression()"
   ]
  },
  {
   "cell_type": "code",
   "execution_count": 60,
   "metadata": {},
   "outputs": [],
   "source": [
    "gscv = GridSearchCV(logreg, params, n_jobs = -1, verbose = 1)"
   ]
  },
  {
   "cell_type": "code",
   "execution_count": 61,
   "metadata": {},
   "outputs": [
    {
     "data": {
      "text/plain": [
       "((21070, 101), (21070,))"
      ]
     },
     "execution_count": 61,
     "metadata": {},
     "output_type": "execute_result"
    }
   ],
   "source": [
    "X_train.shape, y_train.shape"
   ]
  },
  {
   "cell_type": "code",
   "execution_count": 62,
   "metadata": {},
   "outputs": [
    {
     "name": "stderr",
     "output_type": "stream",
     "text": [
      "C:\\Users\\Atlas\\.conda\\envs\\New\\lib\\site-packages\\sklearn\\model_selection\\_split.py:1978: FutureWarning: The default value of cv will change from 3 to 5 in version 0.22. Specify it explicitly to silence this warning.\n",
      "  warnings.warn(CV_WARNING, FutureWarning)\n",
      "[Parallel(n_jobs=-1)]: Using backend LokyBackend with 4 concurrent workers.\n"
     ]
    },
    {
     "name": "stdout",
     "output_type": "stream",
     "text": [
      "Fitting 3 folds for each of 54 candidates, totalling 162 fits\n"
     ]
    },
    {
     "name": "stderr",
     "output_type": "stream",
     "text": [
      "[Parallel(n_jobs=-1)]: Done  42 tasks      | elapsed:    8.2s\n",
      "[Parallel(n_jobs=-1)]: Done 155 out of 162 | elapsed:   12.6s remaining:    0.5s\n",
      "[Parallel(n_jobs=-1)]: Done 162 out of 162 | elapsed:   12.7s finished\n",
      "C:\\Users\\Atlas\\.conda\\envs\\New\\lib\\site-packages\\sklearn\\linear_model\\logistic.py:432: FutureWarning: Default solver will be changed to 'lbfgs' in 0.22. Specify a solver to silence this warning.\n",
      "  FutureWarning)\n",
      "C:\\Users\\Atlas\\.conda\\envs\\New\\lib\\site-packages\\sklearn\\linear_model\\logistic.py:1544: UserWarning: 'n_jobs' > 1 does not have any effect when 'solver' is set to 'liblinear'. Got 'n_jobs' = 4.\n",
      "  \" = {}.\".format(effective_n_jobs(self.n_jobs)))\n"
     ]
    },
    {
     "data": {
      "text/plain": [
       "GridSearchCV(cv='warn', error_score='raise-deprecating',\n",
       "             estimator=LogisticRegression(C=1.0, class_weight=None, dual=False,\n",
       "                                          fit_intercept=True,\n",
       "                                          intercept_scaling=1, l1_ratio=None,\n",
       "                                          max_iter=100, multi_class='warn',\n",
       "                                          n_jobs=None, penalty='l2',\n",
       "                                          random_state=None, solver='warn',\n",
       "                                          tol=0.0001, verbose=0,\n",
       "                                          warm_start=False),\n",
       "             iid='warn', n_jobs=-1,\n",
       "             param_grid={'C': [1, 0.1, 0.01], 'max_iter': [100, 500, 1000],\n",
       "                         'n_jobs': [-1], 'penalty': ['l1', 'l2'],\n",
       "                         'tol': [0.001, 0.0001, 1e-05]},\n",
       "             pre_dispatch='2*n_jobs', refit=True, return_train_score=False,\n",
       "             scoring=None, verbose=1)"
      ]
     },
     "execution_count": 62,
     "metadata": {},
     "output_type": "execute_result"
    }
   ],
   "source": [
    "gscv.fit(X_train, y_train)"
   ]
  },
  {
   "cell_type": "markdown",
   "metadata": {},
   "source": [
    "### Model Results\n",
    "\n",
    "Well our model is truly middle of the road here. It's best parameters that we have found are:\n",
    "\n",
    "    c = 1.0\n",
    "    Max Iter = 100    \n",
    "    n_jobs = None    \n",
    "    penalty = l2    \n",
    "    tolerance = 0.0001\n",
    "\n",
    "Now that we have this information, let's try and cross validate this with our cross validation set that we cleaned up a long time ago."
   ]
  },
  {
   "cell_type": "code",
   "execution_count": 65,
   "metadata": {},
   "outputs": [
    {
     "data": {
      "text/html": [
       "<div>\n",
       "<style scoped>\n",
       "    .dataframe tbody tr th:only-of-type {\n",
       "        vertical-align: middle;\n",
       "    }\n",
       "\n",
       "    .dataframe tbody tr th {\n",
       "        vertical-align: top;\n",
       "    }\n",
       "\n",
       "    .dataframe thead th {\n",
       "        text-align: right;\n",
       "    }\n",
       "</style>\n",
       "<table border=\"1\" class=\"dataframe\">\n",
       "  <thead>\n",
       "    <tr style=\"text-align: right;\">\n",
       "      <th></th>\n",
       "      <th>work_class_Federal-gov</th>\n",
       "      <th>work_class_Local-gov</th>\n",
       "      <th>work_class_Never-worked</th>\n",
       "      <th>work_class_Private</th>\n",
       "      <th>work_class_Self-emp-inc</th>\n",
       "      <th>work_class_Self-emp-not-inc</th>\n",
       "      <th>work_class_State-gov</th>\n",
       "      <th>work_class_Unknown</th>\n",
       "      <th>work_class_Without-pay</th>\n",
       "      <th>education_10th</th>\n",
       "      <th>...</th>\n",
       "      <th>native_country_Portugal</th>\n",
       "      <th>native_country_Puerto-Rico</th>\n",
       "      <th>native_country_Scotland</th>\n",
       "      <th>native_country_South</th>\n",
       "      <th>native_country_Taiwan</th>\n",
       "      <th>native_country_Thailand</th>\n",
       "      <th>native_country_Trinadad&amp;Tobago</th>\n",
       "      <th>native_country_United-States</th>\n",
       "      <th>native_country_Vietnam</th>\n",
       "      <th>native_country_Yugoslavia</th>\n",
       "    </tr>\n",
       "  </thead>\n",
       "  <tbody>\n",
       "    <tr>\n",
       "      <th>0</th>\n",
       "      <td>0</td>\n",
       "      <td>0</td>\n",
       "      <td>0</td>\n",
       "      <td>1</td>\n",
       "      <td>0</td>\n",
       "      <td>0</td>\n",
       "      <td>0</td>\n",
       "      <td>0</td>\n",
       "      <td>0</td>\n",
       "      <td>0</td>\n",
       "      <td>...</td>\n",
       "      <td>0</td>\n",
       "      <td>0</td>\n",
       "      <td>0</td>\n",
       "      <td>0</td>\n",
       "      <td>0</td>\n",
       "      <td>0</td>\n",
       "      <td>0</td>\n",
       "      <td>1</td>\n",
       "      <td>0</td>\n",
       "      <td>0</td>\n",
       "    </tr>\n",
       "    <tr>\n",
       "      <th>1</th>\n",
       "      <td>0</td>\n",
       "      <td>0</td>\n",
       "      <td>0</td>\n",
       "      <td>1</td>\n",
       "      <td>0</td>\n",
       "      <td>0</td>\n",
       "      <td>0</td>\n",
       "      <td>0</td>\n",
       "      <td>0</td>\n",
       "      <td>0</td>\n",
       "      <td>...</td>\n",
       "      <td>0</td>\n",
       "      <td>0</td>\n",
       "      <td>0</td>\n",
       "      <td>0</td>\n",
       "      <td>0</td>\n",
       "      <td>0</td>\n",
       "      <td>0</td>\n",
       "      <td>1</td>\n",
       "      <td>0</td>\n",
       "      <td>0</td>\n",
       "    </tr>\n",
       "    <tr>\n",
       "      <th>2</th>\n",
       "      <td>0</td>\n",
       "      <td>1</td>\n",
       "      <td>0</td>\n",
       "      <td>0</td>\n",
       "      <td>0</td>\n",
       "      <td>0</td>\n",
       "      <td>0</td>\n",
       "      <td>0</td>\n",
       "      <td>0</td>\n",
       "      <td>0</td>\n",
       "      <td>...</td>\n",
       "      <td>0</td>\n",
       "      <td>0</td>\n",
       "      <td>0</td>\n",
       "      <td>0</td>\n",
       "      <td>0</td>\n",
       "      <td>0</td>\n",
       "      <td>0</td>\n",
       "      <td>1</td>\n",
       "      <td>0</td>\n",
       "      <td>0</td>\n",
       "    </tr>\n",
       "    <tr>\n",
       "      <th>3</th>\n",
       "      <td>0</td>\n",
       "      <td>0</td>\n",
       "      <td>0</td>\n",
       "      <td>1</td>\n",
       "      <td>0</td>\n",
       "      <td>0</td>\n",
       "      <td>0</td>\n",
       "      <td>0</td>\n",
       "      <td>0</td>\n",
       "      <td>0</td>\n",
       "      <td>...</td>\n",
       "      <td>0</td>\n",
       "      <td>0</td>\n",
       "      <td>0</td>\n",
       "      <td>0</td>\n",
       "      <td>0</td>\n",
       "      <td>0</td>\n",
       "      <td>0</td>\n",
       "      <td>1</td>\n",
       "      <td>0</td>\n",
       "      <td>0</td>\n",
       "    </tr>\n",
       "    <tr>\n",
       "      <th>4</th>\n",
       "      <td>0</td>\n",
       "      <td>0</td>\n",
       "      <td>0</td>\n",
       "      <td>0</td>\n",
       "      <td>0</td>\n",
       "      <td>0</td>\n",
       "      <td>0</td>\n",
       "      <td>1</td>\n",
       "      <td>0</td>\n",
       "      <td>0</td>\n",
       "      <td>...</td>\n",
       "      <td>0</td>\n",
       "      <td>0</td>\n",
       "      <td>0</td>\n",
       "      <td>0</td>\n",
       "      <td>0</td>\n",
       "      <td>0</td>\n",
       "      <td>0</td>\n",
       "      <td>1</td>\n",
       "      <td>0</td>\n",
       "      <td>0</td>\n",
       "    </tr>\n",
       "  </tbody>\n",
       "</table>\n",
       "<p>5 rows × 101 columns</p>\n",
       "</div>"
      ],
      "text/plain": [
       "   work_class_Federal-gov  work_class_Local-gov  work_class_Never-worked  \\\n",
       "0                       0                     0                        0   \n",
       "1                       0                     0                        0   \n",
       "2                       0                     1                        0   \n",
       "3                       0                     0                        0   \n",
       "4                       0                     0                        0   \n",
       "\n",
       "   work_class_Private  work_class_Self-emp-inc  work_class_Self-emp-not-inc  \\\n",
       "0                   1                        0                            0   \n",
       "1                   1                        0                            0   \n",
       "2                   0                        0                            0   \n",
       "3                   1                        0                            0   \n",
       "4                   0                        0                            0   \n",
       "\n",
       "   work_class_State-gov  work_class_Unknown  work_class_Without-pay  \\\n",
       "0                     0                   0                       0   \n",
       "1                     0                   0                       0   \n",
       "2                     0                   0                       0   \n",
       "3                     0                   0                       0   \n",
       "4                     0                   1                       0   \n",
       "\n",
       "   education_10th  ...  native_country_Portugal  native_country_Puerto-Rico  \\\n",
       "0               0  ...                        0                           0   \n",
       "1               0  ...                        0                           0   \n",
       "2               0  ...                        0                           0   \n",
       "3               0  ...                        0                           0   \n",
       "4               0  ...                        0                           0   \n",
       "\n",
       "   native_country_Scotland  native_country_South  native_country_Taiwan  \\\n",
       "0                        0                     0                      0   \n",
       "1                        0                     0                      0   \n",
       "2                        0                     0                      0   \n",
       "3                        0                     0                      0   \n",
       "4                        0                     0                      0   \n",
       "\n",
       "   native_country_Thailand  native_country_Trinadad&Tobago  \\\n",
       "0                        0                               0   \n",
       "1                        0                               0   \n",
       "2                        0                               0   \n",
       "3                        0                               0   \n",
       "4                        0                               0   \n",
       "\n",
       "   native_country_United-States  native_country_Vietnam  \\\n",
       "0                             1                       0   \n",
       "1                             1                       0   \n",
       "2                             1                       0   \n",
       "3                             1                       0   \n",
       "4                             1                       0   \n",
       "\n",
       "   native_country_Yugoslavia  \n",
       "0                          0  \n",
       "1                          0  \n",
       "2                          0  \n",
       "3                          0  \n",
       "4                          0  \n",
       "\n",
       "[5 rows x 101 columns]"
      ]
     },
     "execution_count": 65,
     "metadata": {},
     "output_type": "execute_result"
    }
   ],
   "source": [
    "# This is where we create dummy columns of 0 and 1's for each variable within those columns listed.\n",
    "\n",
    "X = pd.get_dummies(df1[x_feats])\n",
    "y = df1.annual_salary\n",
    "X.head()"
   ]
  },
  {
   "cell_type": "code",
   "execution_count": 66,
   "metadata": {},
   "outputs": [],
   "source": [
    "for col in X.columns:\n",
    "    X[col] = (X[col] - min(X[col])) / (max(X[col]) - min(X[col]))"
   ]
  },
  {
   "cell_type": "code",
   "execution_count": 67,
   "metadata": {},
   "outputs": [],
   "source": [
    "X.head()\n",
    "\n",
    "X_train, X_test, y_train, y_test = train_test_split(X, y)"
   ]
  },
  {
   "cell_type": "code",
   "execution_count": 68,
   "metadata": {},
   "outputs": [
    {
     "name": "stderr",
     "output_type": "stream",
     "text": [
      "C:\\Users\\Atlas\\.conda\\envs\\New\\lib\\site-packages\\sklearn\\linear_model\\logistic.py:432: FutureWarning: Default solver will be changed to 'lbfgs' in 0.22. Specify a solver to silence this warning.\n",
      "  FutureWarning)\n"
     ]
    },
    {
     "data": {
      "text/plain": [
       "LogisticRegression(C=1000000000000.0, class_weight=None, dual=False,\n",
       "                   fit_intercept=False, intercept_scaling=1, l1_ratio=None,\n",
       "                   max_iter=100, multi_class='warn', n_jobs=None, penalty='l2',\n",
       "                   random_state=None, solver='warn', tol=0.0001, verbose=0,\n",
       "                   warm_start=False)"
      ]
     },
     "execution_count": 68,
     "metadata": {},
     "output_type": "execute_result"
    }
   ],
   "source": [
    "logreg = LogisticRegression(fit_intercept = False, C = 1e12)\n",
    "model_log = logreg.fit(X_train, y_train)\n",
    "model_log"
   ]
  },
  {
   "cell_type": "code",
   "execution_count": 69,
   "metadata": {},
   "outputs": [],
   "source": [
    "y_hat_test = logreg.predict(X_test)\n",
    "y_hat_train = logreg.predict(X_train)"
   ]
  },
  {
   "cell_type": "code",
   "execution_count": 70,
   "metadata": {},
   "outputs": [
    {
     "name": "stdout",
     "output_type": "stream",
     "text": [
      "0    9639\n",
      "1    1756\n",
      "Name: annual_salary, dtype: int64\n",
      "0    0.845897\n",
      "1    0.154103\n",
      "Name: annual_salary, dtype: float64\n"
     ]
    }
   ],
   "source": [
    "residuals = np.abs(y_train - y_hat_train)\n",
    "print(pd.Series(residuals).value_counts())\n",
    "print(pd.Series(residuals).value_counts(normalize=True))"
   ]
  },
  {
   "cell_type": "code",
   "execution_count": 71,
   "metadata": {},
   "outputs": [
    {
     "name": "stdout",
     "output_type": "stream",
     "text": [
      " 0    3190\n",
      " 1     404\n",
      "-1     205\n",
      "Name: annual_salary, dtype: int64\n",
      " 0    0.839695\n",
      " 1    0.106344\n",
      "-1    0.053962\n",
      "Name: annual_salary, dtype: float64\n"
     ]
    }
   ],
   "source": [
    "#We could subtract the two columns. If values or equal, difference will be zero. Then count number of zeros.\n",
    "\n",
    "residuals = y_test - y_hat_test\n",
    "print(pd.Series(residuals).value_counts())\n",
    "print(pd.Series(residuals).value_counts(normalize=True))"
   ]
  },
  {
   "cell_type": "markdown",
   "metadata": {},
   "source": [
    "Based on the cross validation data set we are pretty much in a similar ballpark as their data every step of the way. Whereas our data was 85% for both test and train, this data is 84.5% and 84% test and train. "
   ]
  },
  {
   "cell_type": "code",
   "execution_count": 72,
   "metadata": {
    "scrolled": false
   },
   "outputs": [
    {
     "name": "stdout",
     "output_type": "stream",
     "text": [
      "Confusion Matrix:\n",
      " [[2750  404]\n",
      " [ 205  440]]\n"
     ]
    }
   ],
   "source": [
    "cnf_matrix = confusion_matrix(y_hat_test, y_test)\n",
    "print('Confusion Matrix:\\n',cnf_matrix)"
   ]
  },
  {
   "cell_type": "markdown",
   "metadata": {},
   "source": [
    "Even looking at the confusion matrix we're essentially seeing that there more False Positive and True Positive throughout this data set than the one that we were originally working with. "
   ]
  },
  {
   "cell_type": "code",
   "execution_count": 73,
   "metadata": {},
   "outputs": [],
   "source": [
    "params = {\"penalty\": ['l1', 'l2'],\n",
    "          'tol': [0.001, 0.0001, 0.00001],\n",
    "          'C': [1, 0.1, 0.01],\n",
    "          'max_iter': [100, 500, 1000],\n",
    "          'n_jobs': [-1]}"
   ]
  },
  {
   "cell_type": "code",
   "execution_count": 74,
   "metadata": {},
   "outputs": [],
   "source": [
    "logreg = LogisticRegression()"
   ]
  },
  {
   "cell_type": "code",
   "execution_count": 75,
   "metadata": {},
   "outputs": [],
   "source": [
    "gscv = GridSearchCV(logreg, params, n_jobs = -1, verbose = 1)"
   ]
  },
  {
   "cell_type": "code",
   "execution_count": 76,
   "metadata": {},
   "outputs": [
    {
     "data": {
      "text/plain": [
       "((11395, 101), (11395,))"
      ]
     },
     "execution_count": 76,
     "metadata": {},
     "output_type": "execute_result"
    }
   ],
   "source": [
    "X_train.shape, y_train.shape"
   ]
  },
  {
   "cell_type": "code",
   "execution_count": 77,
   "metadata": {},
   "outputs": [
    {
     "name": "stderr",
     "output_type": "stream",
     "text": [
      "C:\\Users\\Atlas\\.conda\\envs\\New\\lib\\site-packages\\sklearn\\model_selection\\_split.py:1978: FutureWarning: The default value of cv will change from 3 to 5 in version 0.22. Specify it explicitly to silence this warning.\n",
      "  warnings.warn(CV_WARNING, FutureWarning)\n",
      "[Parallel(n_jobs=-1)]: Using backend LokyBackend with 4 concurrent workers.\n"
     ]
    },
    {
     "name": "stdout",
     "output_type": "stream",
     "text": [
      "Fitting 3 folds for each of 54 candidates, totalling 162 fits\n"
     ]
    },
    {
     "name": "stderr",
     "output_type": "stream",
     "text": [
      "[Parallel(n_jobs=-1)]: Done  42 tasks      | elapsed:    4.2s\n",
      "[Parallel(n_jobs=-1)]: Done 155 out of 162 | elapsed:    5.8s remaining:    0.2s\n",
      "[Parallel(n_jobs=-1)]: Done 162 out of 162 | elapsed:    5.9s finished\n",
      "C:\\Users\\Atlas\\.conda\\envs\\New\\lib\\site-packages\\sklearn\\linear_model\\logistic.py:432: FutureWarning: Default solver will be changed to 'lbfgs' in 0.22. Specify a solver to silence this warning.\n",
      "  FutureWarning)\n",
      "C:\\Users\\Atlas\\.conda\\envs\\New\\lib\\site-packages\\sklearn\\linear_model\\logistic.py:1544: UserWarning: 'n_jobs' > 1 does not have any effect when 'solver' is set to 'liblinear'. Got 'n_jobs' = 4.\n",
      "  \" = {}.\".format(effective_n_jobs(self.n_jobs)))\n"
     ]
    },
    {
     "data": {
      "text/plain": [
       "GridSearchCV(cv='warn', error_score='raise-deprecating',\n",
       "             estimator=LogisticRegression(C=1.0, class_weight=None, dual=False,\n",
       "                                          fit_intercept=True,\n",
       "                                          intercept_scaling=1, l1_ratio=None,\n",
       "                                          max_iter=100, multi_class='warn',\n",
       "                                          n_jobs=None, penalty='l2',\n",
       "                                          random_state=None, solver='warn',\n",
       "                                          tol=0.0001, verbose=0,\n",
       "                                          warm_start=False),\n",
       "             iid='warn', n_jobs=-1,\n",
       "             param_grid={'C': [1, 0.1, 0.01], 'max_iter': [100, 500, 1000],\n",
       "                         'n_jobs': [-1], 'penalty': ['l1', 'l2'],\n",
       "                         'tol': [0.001, 0.0001, 1e-05]},\n",
       "             pre_dispatch='2*n_jobs', refit=True, return_train_score=False,\n",
       "             scoring=None, verbose=1)"
      ]
     },
     "execution_count": 77,
     "metadata": {},
     "output_type": "execute_result"
    }
   ],
   "source": [
    "gscv.fit(X_train, y_train)"
   ]
  },
  {
   "cell_type": "markdown",
   "metadata": {},
   "source": [
    "And for the moment of truth the cross validation data set values are:\n",
    "\n",
    "    c = 1.0\n",
    "    max iter = 100\n",
    "    n_jobs = None\n",
    "    penalty = l2\n",
    "    to = 0.0001\n",
    "    \n",
    "So the data that was partitioned early on and the one that we originally worked with both share the same hyperparameters down to a T. Now that we know that I'd like to think that we did the right modelling with our data but there is always room for improvements!"
   ]
  },
  {
   "cell_type": "markdown",
   "metadata": {},
   "source": [
    "# Conclusion"
   ]
  },
  {
   "cell_type": "markdown",
   "metadata": {},
   "source": [
    "#### Next Steps\n",
    "\n",
    "With any project there are constraints found within it that we could have worked on or improved to make the test better overall. I think that there are a few optional items that given enough time I would add to this project. Those options are:\n",
    "\n",
    "    1. Perform a different machine learning algorithm with the same goal.\n",
    "    2. Use different feature engineering methods to improve our performance scores.\n",
    "    3. Refine what columns are used in the machine learning process to see which ones weaken the modelling."
   ]
  },
  {
   "cell_type": "markdown",
   "metadata": {},
   "source": [
    "#### Model Results\n",
    "\n",
    "Regardless of what we could work on to improve the model, what we for sure know is that given our current standing with what we worked on we are able to predict what category of 'tax bracket' you would be 85% of the time based on our data set based on several categories including race, sex, martial status, and occupation. What this means is that we can provide a fairly strong predicted answer to the US government when determining peoples ability to pay taxes and with some refinement and secondary testing we should be able to improve this score immensely. "
   ]
  },
  {
   "cell_type": "markdown",
   "metadata": {},
   "source": [
    "Thank you for your time and I hope this project was an interesting read and dive into my thought process."
   ]
  }
 ],
 "metadata": {
  "kernelspec": {
   "display_name": "Python 3",
   "language": "python",
   "name": "python3"
  },
  "language_info": {
   "codemirror_mode": {
    "name": "ipython",
    "version": 3
   },
   "file_extension": ".py",
   "mimetype": "text/x-python",
   "name": "python",
   "nbconvert_exporter": "python",
   "pygments_lexer": "ipython3",
   "version": "3.7.3"
  }
 },
 "nbformat": 4,
 "nbformat_minor": 2
}
